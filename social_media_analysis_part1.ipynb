{
 "cells": [
  {
   "cell_type": "markdown",
   "id": "43fedd6a",
   "metadata": {},
   "source": [
    "# Social Media Data Analysis with Python-part1\n",
    "This notebook will guide you through performing basic machine learning tasks on social media data using Python.\n",
    "We'll use libraries like `pandas`, `scikit-learn`, and `nltk` to analyze text data, perform sentiment analysis, and make predictions.\n",
    "\n",
    "---\n",
    "\n",
    "## Steps We'll Cover\n",
    "[Check it here!](https://www.kaggle.com/code/muhammadimran112233/eda-twitter-sentiment-analysis-using-nn/notebook)\n",
    "1. Data Preparation \n",
    "2. Implementing Tensorflow based model for training 🧪\n",
    "3. Model Evaluation\n",
    "4. Improvements? \n",
    "\n",
    "\n",
    "\n",
    " #### APIs for Social Media Data Collection\n",
    "- [Twitter API v2 Documentation](https://developer.twitter.com/en/docs/twitter-api)\n",
    "- [Reddit API (PRAW Documentation)](https://praw.readthedocs.io/)\n",
    "- [Facebook Graph API Documentation](https://developers.facebook.com/docs/graph-api)\n",
    "- [YouTube Data API](https://developers.google.com/youtube/v3)\n",
    "- [Instagram Graph API](https://developers.facebook.com/docs/instagram-api)\n",
    "\n",
    "#### Datasets for Social Media Analysis\n",
    "- [Sentiment140 Twitter Dataset on Kaggle](https://www.kaggle.com/datasets/kazanova/sentiment140)\n",
    "- [COVID-19 Tweets Dataset on Kaggle](https://www.kaggle.com/datasets/datatattle/covid-19-nlp-text-classification)\n",
    "- [Twitter US Airline Sentiment Dataset on Kaggle](https://www.kaggle.com/datasets/crowdflower/twitter-airline-sentiment)\n",
    "- [Reddit Comments Dataset on Google BigQuery](https://console.cloud.google.com/marketplace/details/google/reddit-comments)\n",
    "- [Hugging Face Social Media Dataset](https://huggingface.co/datasets)"
   ]
  },
  {
   "cell_type": "code",
   "execution_count": 1,
   "id": "ce8646f1",
   "metadata": {},
   "outputs": [
    {
     "name": "stderr",
     "output_type": "stream",
     "text": [
      "2024-11-12 15:04:32.959258: E external/local_xla/xla/stream_executor/cuda/cuda_fft.cc:477] Unable to register cuFFT factory: Attempting to register factory for plugin cuFFT when one has already been registered\n",
      "WARNING: All log messages before absl::InitializeLog() is called are written to STDERR\n",
      "E0000 00:00:1731423872.986702 2207505 cuda_dnn.cc:8310] Unable to register cuDNN factory: Attempting to register factory for plugin cuDNN when one has already been registered\n",
      "E0000 00:00:1731423872.994919 2207505 cuda_blas.cc:1418] Unable to register cuBLAS factory: Attempting to register factory for plugin cuBLAS when one has already been registered\n"
     ]
    }
   ],
   "source": [
    "import numpy as np \n",
    "import pandas as pd \n",
    "import seaborn as sns \n",
    "import matplotlib.pyplot as plt\n",
    "plt.style.use('ggplot')\n",
    "from sklearn.metrics import roc_curve, auc\n",
    "from sklearn.metrics import classification_report, confusion_matrix\n",
    "import nltk\n",
    "from nltk.corpus import stopwords\n",
    "from nltk.stem import PorterStemmer \n",
    "from sklearn.model_selection import train_test_split\n",
    "from mlxtend.plotting import plot_confusion_matrix\n",
    "import matplotlib.cm as cm\n",
    "from matplotlib import rcParams\n",
    "from collections import Counter\n",
    "from nltk.tokenize import RegexpTokenizer\n",
    "import re\n",
    "import string\n",
    "from tensorflow.keras.layers import LSTM, Activation, Dense, Dropout, Input, Embedding\n",
    "from tensorflow.keras.models import Model\n",
    "from tensorflow.keras.optimizers import RMSprop\n",
    "from tensorflow.keras.preprocessing.text import Tokenizer\n",
    "from tensorflow.keras.preprocessing import sequence\n",
    "\n",
    "from IPython.display import Image, display\n",
    "from sklearn.model_selection import KFold\n",
    "\n",
    "%matplotlib inline\n",
    "\n",
    "\n",
    "\n",
    "import warnings\n",
    "warnings.filterwarnings(\"ignore\")"
   ]
  },
  {
   "cell_type": "code",
   "execution_count": 3,
   "id": "dd152b67",
   "metadata": {},
   "outputs": [],
   "source": [
    "# Load the dataset\n",
    "file_path = 'sentiment140.csv'\n",
    "df_complete = pd.read_csv(file_path, encoding = \"ISO-8859-1\", engine=\"python\")\n",
    "df_complete.columns = [\"label\", \"time\", \"date\", \"query\", \"username\", \"text\"]\n",
    "df_complete['label'][df_complete['label']==4]=1\n",
    "\n",
    "# View the first few rows\n",
    "df_complete.head()\n",
    "\n",
    "\n",
    "# Label dataset for training\n",
    "# n=100000 selects 50 random rows\n",
    "df = df_complete.sample(n=200000, random_state=42)"
   ]
  },
  {
   "cell_type": "markdown",
   "id": "543f629f",
   "metadata": {},
   "source": [
    "# Data Preparation"
   ]
  },
  {
   "cell_type": "code",
   "execution_count": 4,
   "id": "d428969e",
   "metadata": {},
   "outputs": [],
   "source": [
    "# Lower case\n",
    "df['text']=df['text'].str.lower()"
   ]
  },
  {
   "cell_type": "code",
   "execution_count": 5,
   "id": "f44a0a9d",
   "metadata": {},
   "outputs": [
    {
     "data": {
      "text/plain": [
       "\"@powersurf oh i've got a case. i designed it. someone idiot stole it and i can prove it. if they want to play hardball,i'm game. \""
      ]
     },
     "execution_count": 5,
     "metadata": {},
     "output_type": "execute_result"
    }
   ],
   "source": [
    "df.iloc[100].text"
   ]
  },
  {
   "cell_type": "code",
   "execution_count": 6,
   "id": "2a222143",
   "metadata": {
    "scrolled": true
   },
   "outputs": [],
   "source": [
    "# Preprocess the text data\n",
    "stop_words = set(stopwords.words('english'))\n",
    "\n",
    "# Remove stop words from the text\n",
    "df['text_cleaned'] = df['text'].apply(lambda x: ' '.join([word for word in x.lower().split() if word not in stop_words]).strip())"
   ]
  },
  {
   "cell_type": "code",
   "execution_count": 7,
   "id": "1ebced80",
   "metadata": {},
   "outputs": [
    {
     "data": {
      "text/plain": [
       "\"@powersurf oh i've got case. designed it. someone idiot stole prove it. want play hardball,i'm game.\""
      ]
     },
     "execution_count": 7,
     "metadata": {},
     "output_type": "execute_result"
    }
   ],
   "source": [
    "df.iloc[100].text_cleaned"
   ]
  },
  {
   "cell_type": "code",
   "execution_count": 8,
   "id": "c921513b",
   "metadata": {},
   "outputs": [],
   "source": [
    "# Removing mentions \n",
    "def removing_mentions(data):\n",
    "    return re.sub('@[^\\s]+', ' ', data)\n",
    "df['text_cleaned']= df['text_cleaned'].apply(lambda x: removing_mentions(x).strip())"
   ]
  },
  {
   "cell_type": "code",
   "execution_count": 9,
   "id": "0056a50f",
   "metadata": {},
   "outputs": [
    {
     "data": {
      "text/plain": [
       "\"oh i've got case. designed it. someone idiot stole prove it. want play hardball,i'm game.\""
      ]
     },
     "execution_count": 9,
     "metadata": {},
     "output_type": "execute_result"
    }
   ],
   "source": [
    "df.iloc[100].text_cleaned"
   ]
  },
  {
   "cell_type": "code",
   "execution_count": 10,
   "id": "0a9ca284",
   "metadata": {},
   "outputs": [],
   "source": [
    "# Remove URLs\n",
    "def cleaning_URLs(data):\n",
    "    return re.sub('((www\\.[^\\s]+)|(https?://[^\\s]+))',' ',data)\n",
    "\n",
    "df['text_cleaned']= df['text_cleaned'].apply(lambda x: cleaning_URLs(x))"
   ]
  },
  {
   "cell_type": "code",
   "execution_count": 11,
   "id": "7cefa2b7",
   "metadata": {},
   "outputs": [
    {
     "data": {
      "text/plain": [
       "\"oh i've got case. designed it. someone idiot stole prove it. want play hardball,i'm game.\""
      ]
     },
     "execution_count": 11,
     "metadata": {},
     "output_type": "execute_result"
    }
   ],
   "source": [
    "df.iloc[100].text_cleaned"
   ]
  },
  {
   "cell_type": "code",
   "execution_count": 12,
   "id": "96a2387e",
   "metadata": {},
   "outputs": [],
   "source": [
    "# Remove puntaction\n",
    "english_punctuations = string.punctuation.replace('#', '')\n",
    "punctuations_list = english_punctuations.replace('#', '')\n",
    "\n",
    "def cleaning_punctuations(text):\n",
    "    translator = str.maketrans('', '', punctuations_list)\n",
    "    return text.translate(translator)\n",
    "\n",
    "df['text_cleaned']= df['text_cleaned'].apply(lambda x: cleaning_punctuations(x))"
   ]
  },
  {
   "cell_type": "code",
   "execution_count": 13,
   "id": "07ec7c52",
   "metadata": {},
   "outputs": [
    {
     "data": {
      "text/plain": [
       "'oh ive got case designed it someone idiot stole prove it want play hardballim game'"
      ]
     },
     "execution_count": 13,
     "metadata": {},
     "output_type": "execute_result"
    }
   ],
   "source": [
    "df.iloc[100].text_cleaned"
   ]
  },
  {
   "cell_type": "code",
   "execution_count": 14,
   "id": "9a5b7662",
   "metadata": {},
   "outputs": [],
   "source": [
    "# Cleaning and removing repeating characters\n",
    "def cleaning_repeating_char(text):\n",
    "    return re.sub(r'(.)\\1+', r'\\1', text)\n",
    "\n",
    "df['text_cleaned']= df['text_cleaned'].apply(lambda x: cleaning_repeating_char(x))"
   ]
  },
  {
   "cell_type": "code",
   "execution_count": 15,
   "id": "b589d2f6",
   "metadata": {},
   "outputs": [
    {
     "data": {
      "text/plain": [
       "'oh ive got case designed it someone idiot stole prove it want play hardbalim game'"
      ]
     },
     "execution_count": 15,
     "metadata": {},
     "output_type": "execute_result"
    }
   ],
   "source": [
    "df.iloc[100].text_cleaned"
   ]
  },
  {
   "cell_type": "code",
   "execution_count": 16,
   "id": "b258152d",
   "metadata": {},
   "outputs": [],
   "source": [
    "# Remove Numbers\n",
    "def cleaning_numbers(data):\n",
    "    return re.sub('[0-9]+', '', data)\n",
    "\n",
    "df['text_cleaned']= df['text_cleaned'].apply(lambda x: cleaning_numbers(x))"
   ]
  },
  {
   "cell_type": "code",
   "execution_count": 17,
   "id": "7fcfdbe0",
   "metadata": {},
   "outputs": [
    {
     "data": {
      "text/plain": [
       "'oh ive got case designed it someone idiot stole prove it want play hardbalim game'"
      ]
     },
     "execution_count": 17,
     "metadata": {},
     "output_type": "execute_result"
    }
   ],
   "source": [
    "df.iloc[100].text_cleaned"
   ]
  },
  {
   "cell_type": "code",
   "execution_count": 18,
   "id": "8e8377e5",
   "metadata": {},
   "outputs": [],
   "source": [
    "# Tokenization\n",
    "tokenizer = RegexpTokenizer(r'\\w+')\n",
    "df['text_cleaned'] = df['text_cleaned'].apply(tokenizer.tokenize)"
   ]
  },
  {
   "cell_type": "code",
   "execution_count": 19,
   "id": "90dec326",
   "metadata": {},
   "outputs": [
    {
     "data": {
      "text/plain": [
       "['oh',\n",
       " 'ive',\n",
       " 'got',\n",
       " 'case',\n",
       " 'designed',\n",
       " 'it',\n",
       " 'someone',\n",
       " 'idiot',\n",
       " 'stole',\n",
       " 'prove',\n",
       " 'it',\n",
       " 'want',\n",
       " 'play',\n",
       " 'hardbalim',\n",
       " 'game']"
      ]
     },
     "execution_count": 19,
     "metadata": {},
     "output_type": "execute_result"
    }
   ],
   "source": [
    "df.iloc[100].text_cleaned"
   ]
  },
  {
   "cell_type": "code",
   "execution_count": 20,
   "id": "7cb949ee",
   "metadata": {},
   "outputs": [],
   "source": [
    "# Lemmitizer: \"better\" → \"good\"\n",
    "lm = nltk.WordNetLemmatizer()\n",
    "def lemmatizer_on_text(data):\n",
    "    text = [lm.lemmatize(word) for word in data]\n",
    "    return text\n",
    "\n",
    "df['text_cleaned'] = df['text_cleaned'].apply(lambda x: lemmatizer_on_text(x))"
   ]
  },
  {
   "cell_type": "code",
   "execution_count": 21,
   "id": "bf1f5885",
   "metadata": {},
   "outputs": [
    {
     "data": {
      "text/plain": [
       "['oh',\n",
       " 'ive',\n",
       " 'got',\n",
       " 'case',\n",
       " 'designed',\n",
       " 'it',\n",
       " 'someone',\n",
       " 'idiot',\n",
       " 'stole',\n",
       " 'prove',\n",
       " 'it',\n",
       " 'want',\n",
       " 'play',\n",
       " 'hardbalim',\n",
       " 'game']"
      ]
     },
     "execution_count": 21,
     "metadata": {},
     "output_type": "execute_result"
    }
   ],
   "source": [
    "df.iloc[100].text_cleaned"
   ]
  },
  {
   "cell_type": "code",
   "execution_count": 22,
   "id": "c6f6468d",
   "metadata": {},
   "outputs": [],
   "source": [
    "df.dropna(inplace=True)\n",
    "df['text_cleaned'] = df['text_cleaned'].astype(str)"
   ]
  },
  {
   "cell_type": "code",
   "execution_count": 23,
   "id": "2787d9dc",
   "metadata": {},
   "outputs": [],
   "source": [
    "X=df.text_cleaned\n",
    "y=df.label"
   ]
  },
  {
   "cell_type": "code",
   "execution_count": 24,
   "id": "b9d57e37",
   "metadata": {},
   "outputs": [],
   "source": [
    "max_len = 200\n",
    "tok = Tokenizer(num_words=5000)\n",
    "tok.fit_on_texts(X)\n",
    "sequences = tok.texts_to_sequences(X)"
   ]
  },
  {
   "cell_type": "code",
   "execution_count": 25,
   "id": "a8e184c8",
   "metadata": {},
   "outputs": [
    {
     "data": {
      "text/plain": [
       "[242, 104, 2152, 19, 88, 184, 211, 65, 60]"
      ]
     },
     "execution_count": 25,
     "metadata": {},
     "output_type": "execute_result"
    }
   ],
   "source": [
    "sequences[0]"
   ]
  },
  {
   "cell_type": "code",
   "execution_count": 26,
   "id": "3bb18366",
   "metadata": {},
   "outputs": [
    {
     "data": {
      "text/plain": [
       "2"
      ]
     },
     "execution_count": 26,
     "metadata": {},
     "output_type": "execute_result"
    }
   ],
   "source": [
    "min([len(i) for i in X])"
   ]
  },
  {
   "cell_type": "code",
   "execution_count": 27,
   "id": "8f6d48a7",
   "metadata": {},
   "outputs": [
    {
     "data": {
      "text/plain": [
       "462"
      ]
     },
     "execution_count": 27,
     "metadata": {},
     "output_type": "execute_result"
    }
   ],
   "source": [
    "max([len(i) for i in X])"
   ]
  },
  {
   "cell_type": "markdown",
   "id": "8e5ccccf",
   "metadata": {},
   "source": [
    "- **Pads shorter sequences** with zeros or a specified value.\n",
    "- **Truncates longer sequences** to a specified maximum length.\n",
    "- **Ensures consistent input length** for neural networks.\n",
    "- **Needed** because neural networks require fixed-length inputs to process data in batches."
   ]
  },
  {
   "cell_type": "code",
   "execution_count": 28,
   "id": "6cefb6c1",
   "metadata": {},
   "outputs": [],
   "source": [
    "sequences_matrix = sequence.pad_sequences(sequences,maxlen=max_len)"
   ]
  },
  {
   "cell_type": "code",
   "execution_count": 29,
   "id": "fc8f8700",
   "metadata": {},
   "outputs": [
    {
     "data": {
      "text/plain": [
       "array([   0,    0,    0,    0,    0,    0,    0,    0,    0,    0,    0,\n",
       "          0,    0,    0,    0,    0,    0,    0,    0,    0,    0,    0,\n",
       "          0,    0,    0,    0,    0,    0,    0,    0,    0,    0,    0,\n",
       "          0,    0,    0,    0,    0,    0,    0,    0,    0,    0,    0,\n",
       "          0,    0,    0,    0,    0,    0,    0,    0,    0,    0,    0,\n",
       "          0,    0,    0,    0,    0,    0,    0,    0,    0,    0,    0,\n",
       "          0,    0,    0,    0,    0,    0,    0,    0,    0,    0,    0,\n",
       "          0,    0,    0,    0,    0,    0,    0,    0,    0,    0,    0,\n",
       "          0,    0,    0,    0,    0,    0,    0,    0,    0,    0,    0,\n",
       "          0,    0,    0,    0,    0,    0,    0,    0,    0,    0,    0,\n",
       "          0,    0,    0,    0,    0,    0,    0,    0,    0,    0,    0,\n",
       "          0,    0,    0,    0,    0,    0,    0,    0,    0,    0,    0,\n",
       "          0,    0,    0,    0,    0,    0,    0,    0,    0,    0,    0,\n",
       "          0,    0,    0,    0,    0,    0,    0,    0,    0,    0,    0,\n",
       "          0,    0,    0,    0,    0,    0,    0,    0,    0,    0,    0,\n",
       "          0,    0,    0,    0,    0,    0,    0,    0,    0,    0,    0,\n",
       "          0,    0,    0,    0,    0,    0,    0,    0,    0,    0,    0,\n",
       "          0,    0,    0,    0,  242,  104, 2152,   19,   88,  184,  211,\n",
       "         65,   60], dtype=int32)"
      ]
     },
     "execution_count": 29,
     "metadata": {},
     "output_type": "execute_result"
    }
   ],
   "source": [
    "sequences_matrix[0]"
   ]
  },
  {
   "cell_type": "code",
   "execution_count": 30,
   "id": "cfb76ffc",
   "metadata": {},
   "outputs": [],
   "source": [
    "X_train, X_test, Y_train, Y_test = train_test_split(sequences_matrix, y, test_size=0.3, random_state=2)"
   ]
  },
  {
   "cell_type": "code",
   "execution_count": 33,
   "id": "ef9bf869",
   "metadata": {},
   "outputs": [
    {
     "data": {
      "image/png": "[encoded data removed]",
      "text/plain": [
       "<Figure size 640x480 with 1 Axes>"
      ]
     },
     "metadata": {},
     "output_type": "display_data"
    }
   ],
   "source": [
    "# Convert y_train and y_test to pandas Series for value_counts\n",
    "y_train = pd.Series(Y_train)\n",
    "y_test = pd.Series(Y_test)\n",
    "\n",
    "# Combine y_train, y_test into a list of their respective groups\n",
    "labels = ['y_train', 'y_test']\n",
    "class_counts = [y_train.value_counts(), y_test.value_counts()]\n",
    "\n",
    "# Create a DataFrame for better plotting\n",
    "df_counts = pd.DataFrame({labels[0]: y_train.value_counts(), labels[1]: y_test.value_counts()}).fillna(0)\n",
    "\n",
    "# Plot\n",
    "df_counts.plot(kind='bar', stacked=False)\n",
    "plt.title('Class Distribution in y_train and y_test')\n",
    "plt.xlabel('Classes')\n",
    "plt.ylabel('Frequency')\n",
    "plt.xticks(rotation=0)\n",
    "plt.show()"
   ]
  },
  {
   "cell_type": "markdown",
   "id": "ffb557f3",
   "metadata": {},
   "source": [
    "# Implementing Tensorflow based model for training 🧪\n"
   ]
  },
  {
   "cell_type": "code",
   "execution_count": 34,
   "id": "90a31f9a",
   "metadata": {},
   "outputs": [
    {
     "name": "stderr",
     "output_type": "stream",
     "text": [
      "2024-11-12 15:05:41.771600: E external/local_xla/xla/stream_executor/cuda/cuda_driver.cc:152] failed call to cuInit: INTERNAL: CUDA error: Failed call to cuInit: UNKNOWN ERROR (303)\n"
     ]
    },
    {
     "data": {
      "text/html": [
       "<pre style=\"white-space:pre;overflow-x:auto;line-height:normal;font-family:Menlo,'DejaVu Sans Mono',consolas,'Courier New',monospace\"><span style=\"font-weight: bold\">Model: \"functional\"</span>\n",
       "</pre>\n"
      ],
      "text/plain": [
       "\u001b[1mModel: \"functional\"\u001b[0m\n"
      ]
     },
     "metadata": {},
     "output_type": "display_data"
    },
    {
     "data": {
      "text/html": [
       "<pre style=\"white-space:pre;overflow-x:auto;line-height:normal;font-family:Menlo,'DejaVu Sans Mono',consolas,'Courier New',monospace\">┏━━━━━━━━━━━━━━━━━━━━━━━━━━━━━━━━━┳━━━━━━━━━━━━━━━━━━━━━━━━┳━━━━━━━━━━━━━━━┓\n",
       "┃<span style=\"font-weight: bold\"> Layer (type)                    </span>┃<span style=\"font-weight: bold\"> Output Shape           </span>┃<span style=\"font-weight: bold\">       Param # </span>┃\n",
       "┡━━━━━━━━━━━━━━━━━━━━━━━━━━━━━━━━━╇━━━━━━━━━━━━━━━━━━━━━━━━╇━━━━━━━━━━━━━━━┩\n",
       "│ inputs (<span style=\"color: #0087ff; text-decoration-color: #0087ff\">InputLayer</span>)             │ (<span style=\"color: #00d7ff; text-decoration-color: #00d7ff\">None</span>, <span style=\"color: #00af00; text-decoration-color: #00af00\">200</span>)            │             <span style=\"color: #00af00; text-decoration-color: #00af00\">0</span> │\n",
       "├─────────────────────────────────┼────────────────────────┼───────────────┤\n",
       "│ embedding (<span style=\"color: #0087ff; text-decoration-color: #0087ff\">Embedding</span>)           │ (<span style=\"color: #00d7ff; text-decoration-color: #00d7ff\">None</span>, <span style=\"color: #00af00; text-decoration-color: #00af00\">200</span>, <span style=\"color: #00af00; text-decoration-color: #00af00\">50</span>)        │       <span style=\"color: #00af00; text-decoration-color: #00af00\">250,000</span> │\n",
       "├─────────────────────────────────┼────────────────────────┼───────────────┤\n",
       "│ lstm (<span style=\"color: #0087ff; text-decoration-color: #0087ff\">LSTM</span>)                     │ (<span style=\"color: #00d7ff; text-decoration-color: #00d7ff\">None</span>, <span style=\"color: #00af00; text-decoration-color: #00af00\">64</span>)             │        <span style=\"color: #00af00; text-decoration-color: #00af00\">29,440</span> │\n",
       "├─────────────────────────────────┼────────────────────────┼───────────────┤\n",
       "│ FC1 (<span style=\"color: #0087ff; text-decoration-color: #0087ff\">Dense</span>)                     │ (<span style=\"color: #00d7ff; text-decoration-color: #00d7ff\">None</span>, <span style=\"color: #00af00; text-decoration-color: #00af00\">256</span>)            │        <span style=\"color: #00af00; text-decoration-color: #00af00\">16,640</span> │\n",
       "├─────────────────────────────────┼────────────────────────┼───────────────┤\n",
       "│ activation (<span style=\"color: #0087ff; text-decoration-color: #0087ff\">Activation</span>)         │ (<span style=\"color: #00d7ff; text-decoration-color: #00d7ff\">None</span>, <span style=\"color: #00af00; text-decoration-color: #00af00\">256</span>)            │             <span style=\"color: #00af00; text-decoration-color: #00af00\">0</span> │\n",
       "├─────────────────────────────────┼────────────────────────┼───────────────┤\n",
       "│ dropout (<span style=\"color: #0087ff; text-decoration-color: #0087ff\">Dropout</span>)               │ (<span style=\"color: #00d7ff; text-decoration-color: #00d7ff\">None</span>, <span style=\"color: #00af00; text-decoration-color: #00af00\">256</span>)            │             <span style=\"color: #00af00; text-decoration-color: #00af00\">0</span> │\n",
       "├─────────────────────────────────┼────────────────────────┼───────────────┤\n",
       "│ out_layer (<span style=\"color: #0087ff; text-decoration-color: #0087ff\">Dense</span>)               │ (<span style=\"color: #00d7ff; text-decoration-color: #00d7ff\">None</span>, <span style=\"color: #00af00; text-decoration-color: #00af00\">1</span>)              │           <span style=\"color: #00af00; text-decoration-color: #00af00\">257</span> │\n",
       "├─────────────────────────────────┼────────────────────────┼───────────────┤\n",
       "│ activation_1 (<span style=\"color: #0087ff; text-decoration-color: #0087ff\">Activation</span>)       │ (<span style=\"color: #00d7ff; text-decoration-color: #00d7ff\">None</span>, <span style=\"color: #00af00; text-decoration-color: #00af00\">1</span>)              │             <span style=\"color: #00af00; text-decoration-color: #00af00\">0</span> │\n",
       "└─────────────────────────────────┴────────────────────────┴───────────────┘\n",
       "</pre>\n"
      ],
      "text/plain": [
       "┏━━━━━━━━━━━━━━━━━━━━━━━━━━━━━━━━━┳━━━━━━━━━━━━━━━━━━━━━━━━┳━━━━━━━━━━━━━━━┓\n",
       "┃\u001b[1m \u001b[0m\u001b[1mLayer (type)                   \u001b[0m\u001b[1m \u001b[0m┃\u001b[1m \u001b[0m\u001b[1mOutput Shape          \u001b[0m\u001b[1m \u001b[0m┃\u001b[1m \u001b[0m\u001b[1m      Param #\u001b[0m\u001b[1m \u001b[0m┃\n",
       "┡━━━━━━━━━━━━━━━━━━━━━━━━━━━━━━━━━╇━━━━━━━━━━━━━━━━━━━━━━━━╇━━━━━━━━━━━━━━━┩\n",
       "│ inputs (\u001b[38;5;33mInputLayer\u001b[0m)             │ (\u001b[38;5;45mNone\u001b[0m, \u001b[38;5;34m200\u001b[0m)            │             \u001b[38;5;34m0\u001b[0m │\n",
       "├─────────────────────────────────┼────────────────────────┼───────────────┤\n",
       "│ embedding (\u001b[38;5;33mEmbedding\u001b[0m)           │ (\u001b[38;5;45mNone\u001b[0m, \u001b[38;5;34m200\u001b[0m, \u001b[38;5;34m50\u001b[0m)        │       \u001b[38;5;34m250,000\u001b[0m │\n",
       "├─────────────────────────────────┼────────────────────────┼───────────────┤\n",
       "│ lstm (\u001b[38;5;33mLSTM\u001b[0m)                     │ (\u001b[38;5;45mNone\u001b[0m, \u001b[38;5;34m64\u001b[0m)             │        \u001b[38;5;34m29,440\u001b[0m │\n",
       "├─────────────────────────────────┼────────────────────────┼───────────────┤\n",
       "│ FC1 (\u001b[38;5;33mDense\u001b[0m)                     │ (\u001b[38;5;45mNone\u001b[0m, \u001b[38;5;34m256\u001b[0m)            │        \u001b[38;5;34m16,640\u001b[0m │\n",
       "├─────────────────────────────────┼────────────────────────┼───────────────┤\n",
       "│ activation (\u001b[38;5;33mActivation\u001b[0m)         │ (\u001b[38;5;45mNone\u001b[0m, \u001b[38;5;34m256\u001b[0m)            │             \u001b[38;5;34m0\u001b[0m │\n",
       "├─────────────────────────────────┼────────────────────────┼───────────────┤\n",
       "│ dropout (\u001b[38;5;33mDropout\u001b[0m)               │ (\u001b[38;5;45mNone\u001b[0m, \u001b[38;5;34m256\u001b[0m)            │             \u001b[38;5;34m0\u001b[0m │\n",
       "├─────────────────────────────────┼────────────────────────┼───────────────┤\n",
       "│ out_layer (\u001b[38;5;33mDense\u001b[0m)               │ (\u001b[38;5;45mNone\u001b[0m, \u001b[38;5;34m1\u001b[0m)              │           \u001b[38;5;34m257\u001b[0m │\n",
       "├─────────────────────────────────┼────────────────────────┼───────────────┤\n",
       "│ activation_1 (\u001b[38;5;33mActivation\u001b[0m)       │ (\u001b[38;5;45mNone\u001b[0m, \u001b[38;5;34m1\u001b[0m)              │             \u001b[38;5;34m0\u001b[0m │\n",
       "└─────────────────────────────────┴────────────────────────┴───────────────┘\n"
      ]
     },
     "metadata": {},
     "output_type": "display_data"
    },
    {
     "data": {
      "text/html": [
       "<pre style=\"white-space:pre;overflow-x:auto;line-height:normal;font-family:Menlo,'DejaVu Sans Mono',consolas,'Courier New',monospace\"><span style=\"font-weight: bold\"> Total params: </span><span style=\"color: #00af00; text-decoration-color: #00af00\">296,337</span> (1.13 MB)\n",
       "</pre>\n"
      ],
      "text/plain": [
       "\u001b[1m Total params: \u001b[0m\u001b[38;5;34m296,337\u001b[0m (1.13 MB)\n"
      ]
     },
     "metadata": {},
     "output_type": "display_data"
    },
    {
     "data": {
      "text/html": [
       "<pre style=\"white-space:pre;overflow-x:auto;line-height:normal;font-family:Menlo,'DejaVu Sans Mono',consolas,'Courier New',monospace\"><span style=\"font-weight: bold\"> Trainable params: </span><span style=\"color: #00af00; text-decoration-color: #00af00\">296,337</span> (1.13 MB)\n",
       "</pre>\n"
      ],
      "text/plain": [
       "\u001b[1m Trainable params: \u001b[0m\u001b[38;5;34m296,337\u001b[0m (1.13 MB)\n"
      ]
     },
     "metadata": {},
     "output_type": "display_data"
    },
    {
     "data": {
      "text/html": [
       "<pre style=\"white-space:pre;overflow-x:auto;line-height:normal;font-family:Menlo,'DejaVu Sans Mono',consolas,'Courier New',monospace\"><span style=\"font-weight: bold\"> Non-trainable params: </span><span style=\"color: #00af00; text-decoration-color: #00af00\">0</span> (0.00 B)\n",
       "</pre>\n"
      ],
      "text/plain": [
       "\u001b[1m Non-trainable params: \u001b[0m\u001b[38;5;34m0\u001b[0m (0.00 B)\n"
      ]
     },
     "metadata": {},
     "output_type": "display_data"
    }
   ],
   "source": [
    "def tensorflow_based_model(): #Defined tensorflow_based_model function for training tenforflow based model\n",
    "    #step1\n",
    "    inputs = Input(name='inputs',shape=[200])\n",
    "    #step2\n",
    "    layer = Embedding(5000,50,input_length=200)(inputs) \n",
    "    #step3\n",
    "    layer = LSTM(64)(layer) \n",
    "    #step4\n",
    "    layer = Dense(256,name='FC1')(layer) \n",
    "    # step5\n",
    "    layer = Activation('relu')(layer) \n",
    "    # step6\n",
    "    layer = Dropout(0.5)(layer) \n",
    "    #step4 again but this time its giving only one output as because we need to classify the tweet as positive or negative\n",
    "    layer = Dense(1,name='out_layer')(layer) \n",
    "    #step5 but this time activation function is sigmoid for only one output.\n",
    "    layer = Activation('sigmoid')(layer) \n",
    "     #here we are getting the final output value in the model for classification\n",
    "    model = Model(inputs=inputs,outputs=layer)\n",
    "    return model #function returning the value when we call it\n",
    "\n",
    "# here we are calling the function of created model\n",
    "model = tensorflow_based_model() \n",
    "model.compile(loss='binary_crossentropy',optimizer=RMSprop(),metrics=['accuracy'])  \n",
    "\n",
    "model.summary()"
   ]
  },
  {
   "cell_type": "markdown",
   "id": "64479bfd",
   "metadata": {},
   "source": [
    "1. The input to model is 100 words because these are the number features/words that we extracted above from text of tweets.\n",
    "2. Embeddings provide the presentation of words and their relative meanings. Like in this, we are feeding the limit of maximum words, lenght of input words and the inputs of previous layer.\n",
    "3. LSTM (long short term memory) save the words and predict the next words based on the previous words. LSTM is a sequance predictor of next coming words.\n"
   ]
  },
  {
   "cell_type": "code",
   "execution_count": 35,
   "id": "606b1cff",
   "metadata": {},
   "outputs": [
    {
     "data": {
      "text/html": [
       "<img src=\"https://static.wixstatic.com/media/3eee0b_969c1d3e8d7943f0bd693d6151199f69~mv2.gif\"/>"
      ],
      "text/plain": [
       "<IPython.core.display.Image object>"
      ]
     },
     "metadata": {},
     "output_type": "display_data"
    }
   ],
   "source": [
    "url = \"https://static.wixstatic.com/media/3eee0b_969c1d3e8d7943f0bd693d6151199f69~mv2.gif\"\n",
    "\n",
    "# Display a GIF from a URL\n",
    "display(Image(url=url))"
   ]
  },
  {
   "cell_type": "markdown",
   "id": "0cad430f",
   "metadata": {},
   "source": [
    "4. Dense layer reduce the outputs by getting inputs from Faltten layer. Dense layer use all the inputs of previous layer neurons and perform calculations and send 256 outputs\n",
    "5. Activation function is node that is put at the end of all layers of neural network model or in between neural network layers. Activation function help to decide which neuron should be pass and which neuron should fire. So activation function of node defines the output of that node given an input or set of inputs."
   ]
  },
  {
   "cell_type": "code",
   "execution_count": 36,
   "id": "e7a15a57",
   "metadata": {},
   "outputs": [
    {
     "data": {
      "text/html": [
       "<img src=\"https://miro.medium.com/v2/resize:fit:1400/1*mcJfRvd9zarAbkHppFRrCQ.gif\"/>"
      ],
      "text/plain": [
       "<IPython.core.display.Image object>"
      ]
     },
     "metadata": {},
     "output_type": "display_data"
    }
   ],
   "source": [
    "url = 'https://miro.medium.com/v2/resize:fit:1400/1*mcJfRvd9zarAbkHppFRrCQ.gif'\n",
    "            \n",
    "# Display a GIF from a URL\n",
    "display(Image(url=url))"
   ]
  },
  {
   "cell_type": "markdown",
   "id": "45a56fdf",
   "metadata": {},
   "source": [
    "6. Droupout layer drop some neurons from previous layers. why we apply this? We apply this to avoid the overfitting problems. In overfitting, model give good accuracy on training time but not good on testing time."
   ]
  },
  {
   "cell_type": "code",
   "execution_count": 37,
   "id": "b2dd4b75",
   "metadata": {},
   "outputs": [
    {
     "data": {
      "text/html": [
       "<img src=\"https://i.imgur.com/a86utxY.gif\"/>"
      ],
      "text/plain": [
       "<IPython.core.display.Image object>"
      ]
     },
     "metadata": {},
     "output_type": "display_data"
    }
   ],
   "source": [
    "url = 'https://i.imgur.com/a86utxY.gif'\n",
    "\n",
    "# Display a GIF from a URL\n",
    "display(Image(url=url))"
   ]
  },
  {
   "cell_type": "code",
   "execution_count": 38,
   "id": "f95e8991",
   "metadata": {},
   "outputs": [
    {
     "name": "stdout",
     "output_type": "stream",
     "text": [
      "\u001b[1m1400/1400\u001b[0m \u001b[32m━━━━━━━━━━━━━━━━━━━━\u001b[0m\u001b[37m\u001b[0m \u001b[1m254s\u001b[0m 180ms/step - accuracy: 0.6683 - loss: 0.5838 - val_accuracy: 0.7620 - val_loss: 0.4911\n",
      "Training finished !!\n"
     ]
    }
   ],
   "source": [
    "history=model.fit(X_train,Y_train,batch_size=80,\n",
    "                  epochs=1, validation_split=0.2)\n",
    "print('Training finished !!')"
   ]
  },
  {
   "cell_type": "markdown",
   "id": "fed5a480",
   "metadata": {},
   "source": [
    "# Model Evaluation"
   ]
  },
  {
   "cell_type": "code",
   "execution_count": 39,
   "id": "96186137",
   "metadata": {},
   "outputs": [
    {
     "name": "stdout",
     "output_type": "stream",
     "text": [
      "\u001b[1m1875/1875\u001b[0m \u001b[32m━━━━━━━━━━━━━━━━━━━━\u001b[0m\u001b[37m\u001b[0m \u001b[1m72s\u001b[0m 38ms/step - accuracy: 0.7591 - loss: 0.4912\n",
      "Test set\n",
      "  Accuracy: 0.76\n"
     ]
    }
   ],
   "source": [
    "# we are starting to test the model here\n",
    "accr1 = model.evaluate(X_test,Y_test)\n",
    "\n",
    "\n",
    "print('Test set\\n  Accuracy: {:0.2f}'.format(accr1[1])) #the accuracy of the model on test data is given below"
   ]
  },
  {
   "cell_type": "markdown",
   "id": "60ec478a",
   "metadata": {},
   "source": [
    "Accuracy\n",
    "- Accuracy is the number of correctly classify tweets from all the tweets of positive and negative.\n",
    "- For example, if the trained model classify the 70 tweets correct and 30 tweets wrong from total of 100 tweets then the accuracy score will be 70%.\n",
    "- Accuracy= Total number of correct predictions/Total number of predictions"
   ]
  },
  {
   "cell_type": "code",
   "execution_count": 40,
   "id": "304a070d",
   "metadata": {},
   "outputs": [
    {
     "name": "stdout",
     "output_type": "stream",
     "text": [
      "\u001b[1m1875/1875\u001b[0m \u001b[32m━━━━━━━━━━━━━━━━━━━━\u001b[0m\u001b[37m\u001b[0m \u001b[1m78s\u001b[0m 42ms/step\n"
     ]
    }
   ],
   "source": [
    "y_pred = model.predict(X_test) #getting predictions on the trained model\n",
    "y_pred_ = (y_pred > 0.5) "
   ]
  },
  {
   "cell_type": "code",
   "execution_count": 41,
   "id": "e9f59f86",
   "metadata": {},
   "outputs": [
    {
     "name": "stdout",
     "output_type": "stream",
     "text": [
      "\n",
      "\n",
      "confusion matrix\n",
      "\n",
      "\n",
      "[[22444  7451]\n",
      " [ 6881 23224]]\n",
      "\n",
      "\n"
     ]
    },
    {
     "data": {
      "image/png": "[encoded data removed]",
      "text/plain": [
       "<Figure size 800x800 with 2 Axes>"
      ]
     },
     "metadata": {},
     "output_type": "display_data"
    }
   ],
   "source": [
    "print('\\n')\n",
    "print(\"confusion matrix\")\n",
    "print('\\n')\n",
    "CR=confusion_matrix(Y_test, y_pred_)\n",
    "print(CR)\n",
    "print('\\n')\n",
    "\n",
    "fig, ax = plot_confusion_matrix(conf_mat=CR,figsize=(8, 8),\n",
    "                                show_absolute=True,\n",
    "                                show_normed=True,\n",
    "                                colorbar=True)\n",
    "plt.show()"
   ]
  },
  {
   "cell_type": "markdown",
   "id": "e35a65c1",
   "metadata": {},
   "source": [
    "### Receiver Operating Characteristic: ROC CURVE\n",
    "\n",
    "- ROC curve show the performance of the model as well.\n",
    "- We can see that the model started from the 0 percent predictions and then moved to true positive predictions that are correct \n",
    "- ROC curve (receiver operating characteristic curve) show the performance of a classification model at all the classification thresholds. ROC plots two parameters, True Positive Rate (correct predictions/classifications) False Positive Rate (wrong predictions/classifications)"
   ]
  },
  {
   "cell_type": "code",
   "execution_count": 42,
   "id": "7e4429fa",
   "metadata": {},
   "outputs": [
    {
     "data": {
      "image/png": "[encoded data removed]",
      "text/plain": [
       "<Figure size 640x480 with 1 Axes>"
      ]
     },
     "metadata": {},
     "output_type": "display_data"
    }
   ],
   "source": [
    "fpr, tpr, thresholds = roc_curve(Y_test, y_pred)\n",
    "roc_auc = auc(fpr, tpr)\n",
    "plt.figure()\n",
    "plt.plot(fpr, tpr, color='darkorange', lw=1, label='ROC curve (area = %0.2f)' % roc_auc)\n",
    "plt.xlim([0.0, 1.0])\n",
    "plt.ylim([0.0, 1.05])\n",
    "plt.xlabel('False Positive Rate')\n",
    "plt.ylabel('True Positive Rate')\n",
    "plt.title('ROC CURVE')\n",
    "plt.legend(loc=\"lower right\")\n",
    "plt.show()"
   ]
  },
  {
   "cell_type": "markdown",
   "id": "afe27270",
   "metadata": {},
   "source": [
    "# Improvements?"
   ]
  },
  {
   "cell_type": "markdown",
   "id": "9c69d22f",
   "metadata": {},
   "source": [
    "### Cross-Validation"
   ]
  },
  {
   "cell_type": "code",
   "execution_count": 44,
   "id": "12bca831",
   "metadata": {},
   "outputs": [
    {
     "name": "stdout",
     "output_type": "stream",
     "text": [
      "Epoch 1/10\n",
      "\u001b[1m2917/2917\u001b[0m \u001b[32m━━━━━━━━━━━━━━━━━━━━\u001b[0m\u001b[37m\u001b[0m \u001b[1m438s\u001b[0m 150ms/step - accuracy: 0.7679 - loss: 0.4876 - val_accuracy: 0.7683 - val_loss: 0.4879\n",
      "Epoch 2/10\n",
      "\u001b[1m2917/2917\u001b[0m \u001b[32m━━━━━━━━━━━━━━━━━━━━\u001b[0m\u001b[37m\u001b[0m \u001b[1m441s\u001b[0m 150ms/step - accuracy: 0.7778 - loss: 0.4716 - val_accuracy: 0.7689 - val_loss: 0.4864\n",
      "Epoch 3/10\n",
      "\u001b[1m2917/2917\u001b[0m \u001b[32m━━━━━━━━━━━━━━━━━━━━\u001b[0m\u001b[37m\u001b[0m \u001b[1m434s\u001b[0m 147ms/step - accuracy: 0.7876 - loss: 0.4564 - val_accuracy: 0.7695 - val_loss: 0.4795\n",
      "Epoch 4/10\n",
      "\u001b[1m2917/2917\u001b[0m \u001b[32m━━━━━━━━━━━━━━━━━━━━\u001b[0m\u001b[37m\u001b[0m \u001b[1m434s\u001b[0m 149ms/step - accuracy: 0.7947 - loss: 0.4477 - val_accuracy: 0.7666 - val_loss: 0.4882\n",
      "Epoch 5/10\n",
      "\u001b[1m2917/2917\u001b[0m \u001b[32m━━━━━━━━━━━━━━━━━━━━\u001b[0m\u001b[37m\u001b[0m \u001b[1m437s\u001b[0m 147ms/step - accuracy: 0.7992 - loss: 0.4393 - val_accuracy: 0.7666 - val_loss: 0.4886\n",
      "Epoch 6/10\n",
      "\u001b[1m2917/2917\u001b[0m \u001b[32m━━━━━━━━━━━━━━━━━━━━\u001b[0m\u001b[37m\u001b[0m \u001b[1m420s\u001b[0m 140ms/step - accuracy: 0.8088 - loss: 0.4279 - val_accuracy: 0.7671 - val_loss: 0.4972\n",
      "Epoch 7/10\n",
      "\u001b[1m2917/2917\u001b[0m \u001b[32m━━━━━━━━━━━━━━━━━━━━\u001b[0m\u001b[37m\u001b[0m \u001b[1m451s\u001b[0m 143ms/step - accuracy: 0.8125 - loss: 0.4203 - val_accuracy: 0.7619 - val_loss: 0.5067\n",
      "Epoch 8/10\n",
      "\u001b[1m2917/2917\u001b[0m \u001b[32m━━━━━━━━━━━━━━━━━━━━\u001b[0m\u001b[37m\u001b[0m \u001b[1m443s\u001b[0m 143ms/step - accuracy: 0.8184 - loss: 0.4077 - val_accuracy: 0.7555 - val_loss: 0.5246\n",
      "Epoch 9/10\n",
      "\u001b[1m2917/2917\u001b[0m \u001b[32m━━━━━━━━━━━━━━━━━━━━\u001b[0m\u001b[37m\u001b[0m \u001b[1m437s\u001b[0m 142ms/step - accuracy: 0.8244 - loss: 0.3993 - val_accuracy: 0.7576 - val_loss: 0.5142\n",
      "Epoch 10/10\n",
      "\u001b[1m2917/2917\u001b[0m \u001b[32m━━━━━━━━━━━━━━━━━━━━\u001b[0m\u001b[37m\u001b[0m \u001b[1m452s\u001b[0m 145ms/step - accuracy: 0.8306 - loss: 0.3880 - val_accuracy: 0.7548 - val_loss: 0.5300\n",
      "Epoch 1/10\n",
      "\u001b[1m2917/2917\u001b[0m \u001b[32m━━━━━━━━━━━━━━━━━━━━\u001b[0m\u001b[37m\u001b[0m \u001b[1m410s\u001b[0m 141ms/step - accuracy: 0.7951 - loss: 0.4522 - val_accuracy: 0.8166 - val_loss: 0.4115\n",
      "Epoch 2/10\n",
      "\u001b[1m2917/2917\u001b[0m \u001b[32m━━━━━━━━━━━━━━━━━━━━\u001b[0m\u001b[37m\u001b[0m \u001b[1m445s\u001b[0m 142ms/step - accuracy: 0.8070 - loss: 0.4297 - val_accuracy: 0.8130 - val_loss: 0.4231\n",
      "Epoch 3/10\n",
      "\u001b[1m2917/2917\u001b[0m \u001b[32m━━━━━━━━━━━━━━━━━━━━\u001b[0m\u001b[37m\u001b[0m \u001b[1m453s\u001b[0m 146ms/step - accuracy: 0.8161 - loss: 0.4162 - val_accuracy: 0.8095 - val_loss: 0.4266\n",
      "Epoch 4/10\n",
      "\u001b[1m2917/2917\u001b[0m \u001b[32m━━━━━━━━━━━━━━━━━━━━\u001b[0m\u001b[37m\u001b[0m \u001b[1m418s\u001b[0m 143ms/step - accuracy: 0.8235 - loss: 0.4010 - val_accuracy: 0.8021 - val_loss: 0.4390\n",
      "Epoch 5/10\n",
      "\u001b[1m2917/2917\u001b[0m \u001b[32m━━━━━━━━━━━━━━━━━━━━\u001b[0m\u001b[37m\u001b[0m \u001b[1m417s\u001b[0m 143ms/step - accuracy: 0.8293 - loss: 0.3895 - val_accuracy: 0.8006 - val_loss: 0.4571\n",
      "Epoch 6/10\n",
      "\u001b[1m2917/2917\u001b[0m \u001b[32m━━━━━━━━━━━━━━━━━━━━\u001b[0m\u001b[37m\u001b[0m \u001b[1m442s\u001b[0m 143ms/step - accuracy: 0.8347 - loss: 0.3793 - val_accuracy: 0.7921 - val_loss: 0.4708\n",
      "Epoch 7/10\n",
      "\u001b[1m2917/2917\u001b[0m \u001b[32m━━━━━━━━━━━━━━━━━━━━\u001b[0m\u001b[37m\u001b[0m \u001b[1m441s\u001b[0m 142ms/step - accuracy: 0.8417 - loss: 0.3669 - val_accuracy: 0.7853 - val_loss: 0.4769\n",
      "Epoch 8/10\n",
      "\u001b[1m2917/2917\u001b[0m \u001b[32m━━━━━━━━━━━━━━━━━━━━\u001b[0m\u001b[37m\u001b[0m \u001b[1m449s\u001b[0m 145ms/step - accuracy: 0.8462 - loss: 0.3553 - val_accuracy: 0.7842 - val_loss: 0.5226\n",
      "Epoch 9/10\n",
      "\u001b[1m2917/2917\u001b[0m \u001b[32m━━━━━━━━━━━━━━━━━━━━\u001b[0m\u001b[37m\u001b[0m \u001b[1m424s\u001b[0m 145ms/step - accuracy: 0.8549 - loss: 0.3403 - val_accuracy: 0.7775 - val_loss: 0.5461\n",
      "Epoch 10/10\n",
      "\u001b[1m2917/2917\u001b[0m \u001b[32m━━━━━━━━━━━━━━━━━━━━\u001b[0m\u001b[37m\u001b[0m \u001b[1m418s\u001b[0m 143ms/step - accuracy: 0.8616 - loss: 0.3292 - val_accuracy: 0.7741 - val_loss: 0.5785\n",
      "Epoch 1/10\n",
      "\u001b[1m2917/2917\u001b[0m \u001b[32m━━━━━━━━━━━━━━━━━━━━\u001b[0m\u001b[37m\u001b[0m \u001b[1m391s\u001b[0m 134ms/step - accuracy: 0.8129 - loss: 0.4383 - val_accuracy: 0.8480 - val_loss: 0.3569\n",
      "Epoch 2/10\n",
      "\u001b[1m2917/2917\u001b[0m \u001b[32m━━━━━━━━━━━━━━━━━━━━\u001b[0m\u001b[37m\u001b[0m \u001b[1m396s\u001b[0m 136ms/step - accuracy: 0.8221 - loss: 0.4109 - val_accuracy: 0.8504 - val_loss: 0.3560\n",
      "Epoch 3/10\n",
      "\u001b[1m2917/2917\u001b[0m \u001b[32m━━━━━━━━━━━━━━━━━━━━\u001b[0m\u001b[37m\u001b[0m \u001b[1m465s\u001b[0m 143ms/step - accuracy: 0.8317 - loss: 0.3868 - val_accuracy: 0.8398 - val_loss: 0.3758\n",
      "Epoch 4/10\n",
      "\u001b[1m2917/2917\u001b[0m \u001b[32m━━━━━━━━━━━━━━━━━━━━\u001b[0m\u001b[37m\u001b[0m \u001b[1m445s\u001b[0m 145ms/step - accuracy: 0.8390 - loss: 0.3733 - val_accuracy: 0.8351 - val_loss: 0.3993\n",
      "Epoch 5/10\n",
      "\u001b[1m 521/2917\u001b[0m \u001b[32m━━━\u001b[0m\u001b[37m━━━━━━━━━━━━━━━━━\u001b[0m \u001b[1m3:49\u001b[0m 96ms/step - accuracy: 0.8553 - loss: 0.3439"
     ]
    },
    {
     "name": "stderr",
     "output_type": "stream",
     "text": [
      "IOPub message rate exceeded.\n",
      "The notebook server will temporarily stop sending output\n",
      "to the client in order to avoid crashing it.\n",
      "To change this limit, set the config variable\n",
      "`--NotebookApp.iopub_msg_rate_limit`.\n",
      "\n",
      "Current values:\n",
      "NotebookApp.iopub_msg_rate_limit=1000.0 (msgs/sec)\n",
      "NotebookApp.rate_limit_window=3.0 (secs)\n",
      "\n"
     ]
    },
    {
     "name": "stdout",
     "output_type": "stream",
     "text": [
      "\u001b[1m2917/2917\u001b[0m \u001b[32m━━━━━━━━━━━━━━━━━━━━\u001b[0m\u001b[37m\u001b[0m \u001b[1m412s\u001b[0m 141ms/step - accuracy: 0.8502 - loss: 0.3557 - val_accuracy: 0.8273 - val_loss: 0.4169\n",
      "Epoch 6/10\n",
      "\u001b[1m2029/2917\u001b[0m \u001b[32m━━━━━━━━━━━━━\u001b[0m\u001b[37m━━━━━━━\u001b[0m \u001b[1m1:48\u001b[0m 122ms/step - accuracy: 0.8552 - loss: 0.3410"
     ]
    },
    {
     "name": "stderr",
     "output_type": "stream",
     "text": [
      "IOPub message rate exceeded.\n",
      "The notebook server will temporarily stop sending output\n",
      "to the client in order to avoid crashing it.\n",
      "To change this limit, set the config variable\n",
      "`--NotebookApp.iopub_msg_rate_limit`.\n",
      "\n",
      "Current values:\n",
      "NotebookApp.iopub_msg_rate_limit=1000.0 (msgs/sec)\n",
      "NotebookApp.rate_limit_window=3.0 (secs)\n",
      "\n"
     ]
    },
    {
     "name": "stdout",
     "output_type": "stream",
     "text": [
      "\u001b[1m2917/2917\u001b[0m \u001b[32m━━━━━━━━━━━━━━━━━━━━\u001b[0m\u001b[37m\u001b[0m \u001b[1m452s\u001b[0m 145ms/step - accuracy: 0.8542 - loss: 0.3433 - val_accuracy: 0.8177 - val_loss: 0.4552\n",
      "Epoch 7/10\n",
      "\u001b[1m2917/2917\u001b[0m \u001b[32m━━━━━━━━━━━━━━━━━━━━\u001b[0m\u001b[37m\u001b[0m \u001b[1m406s\u001b[0m 139ms/step - accuracy: 0.8639 - loss: 0.3220 - val_accuracy: 0.8125 - val_loss: 0.4725\n",
      "Epoch 8/10\n",
      "\u001b[1m2917/2917\u001b[0m \u001b[32m━━━━━━━━━━━━━━━━━━━━\u001b[0m\u001b[37m\u001b[0m \u001b[1m409s\u001b[0m 140ms/step - accuracy: 0.8705 - loss: 0.3067 - val_accuracy: 0.8071 - val_loss: 0.5130\n",
      "Epoch 9/10\n",
      "\u001b[1m2917/2917\u001b[0m \u001b[32m━━━━━━━━━━━━━━━━━━━━\u001b[0m\u001b[37m\u001b[0m \u001b[1m403s\u001b[0m 138ms/step - accuracy: 0.8756 - loss: 0.2936 - val_accuracy: 0.8030 - val_loss: 0.5444\n",
      "Epoch 10/10\n",
      "\u001b[1m2917/2917\u001b[0m \u001b[32m━━━━━━━━━━━━━━━━━━━━\u001b[0m\u001b[37m\u001b[0m \u001b[1m446s\u001b[0m 140ms/step - accuracy: 0.8824 - loss: 0.2806 - val_accuracy: 0.7984 - val_loss: 0.5769\n"
     ]
    }
   ],
   "source": [
    "# Convert Y_train to a numpy array\n",
    "Y_train_ = Y_train.reset_index(drop=True)\n",
    "\n",
    "# Set up k-fold cross-validation\n",
    "kf = KFold(n_splits=3, shuffle=True, random_state=42)\n",
    "\n",
    "# Initialize lists to store accuracy for each fold\n",
    "training_accuracies = []\n",
    "validation_accuracies = []\n",
    "\n",
    "# Loop over each fold\n",
    "for train_index, val_index in kf.split(X_train):\n",
    "    # Split data for the current fold\n",
    "    X_train_fold, X_val_fold = X_train[train_index], X_train[val_index]\n",
    "    Y_train_fold, Y_val_fold = Y_train_[train_index], Y_train_[val_index]\n",
    "    \n",
    "    # Train the model on the current fold\n",
    "    history = model.fit(X_train_fold, Y_train_fold, epochs=10, validation_data=(X_val_fold, Y_val_fold))\n",
    "    \n",
    "    # Store the training and validation accuracy for each epoch\n",
    "    training_accuracies.append(history.history['accuracy'])\n",
    "    validation_accuracies.append(history.history['val_accuracy'])"
   ]
  },
  {
   "cell_type": "code",
   "execution_count": 49,
   "id": "b19efc07",
   "metadata": {},
   "outputs": [
    {
     "data": {
      "image/png": "[encoded data removed]",
      "text/plain": [
       "<Figure size 640x480 with 1 Axes>"
      ]
     },
     "metadata": {},
     "output_type": "display_data"
    }
   ],
   "source": [
    "# Convert lists to numpy arrays for easier averaging\n",
    "training_accuracies = np.array(training_accuracies)\n",
    "validation_accuracies = np.array(validation_accuracies)\n",
    "\n",
    "# Calculate mean accuracy across folds for each epoch\n",
    "mean_training_accuracy = np.mean(training_accuracies, axis=0)\n",
    "mean_validation_accuracy = np.mean(validation_accuracies, axis=0)\n",
    "\n",
    "# Plot the training and validation accuracy\n",
    "epochs = range(1, len(mean_training_accuracy) + 1)\n",
    "plt.plot(epochs, mean_training_accuracy, label='Training Accuracy')\n",
    "plt.plot(epochs, mean_validation_accuracy, label='Validation Accuracy')\n",
    "plt.xlabel('Epochs')\n",
    "plt.ylabel('Accuracy')\n",
    "plt.title('Training and Validation Accuracy')\n",
    "plt.legend()\n",
    "plt.show()\n"
   ]
  },
  {
   "cell_type": "code",
   "execution_count": 50,
   "id": "fd872617",
   "metadata": {},
   "outputs": [
    {
     "name": "stdout",
     "output_type": "stream",
     "text": [
      "\u001b[1m1875/1875\u001b[0m \u001b[32m━━━━━━━━━━━━━━━━━━━━\u001b[0m\u001b[37m\u001b[0m \u001b[1m77s\u001b[0m 41ms/step - accuracy: 0.7322 - loss: 0.8357\n",
      "Test set\n",
      "  Accuracy: 0.73\n"
     ]
    }
   ],
   "source": [
    "# we are starting to test the model here\n",
    "accr1 = model.evaluate(X_test,Y_test)\n",
    "\n",
    "\n",
    "print('Test set\\n  Accuracy: {:0.2f}'.format(accr1[1])) #the accuracy of the model on test data is given below"
   ]
  },
  {
   "cell_type": "code",
   "execution_count": 51,
   "id": "14a77355",
   "metadata": {},
   "outputs": [
    {
     "name": "stdout",
     "output_type": "stream",
     "text": [
      "\u001b[1m1875/1875\u001b[0m \u001b[32m━━━━━━━━━━━━━━━━━━━━\u001b[0m\u001b[37m\u001b[0m \u001b[1m70s\u001b[0m 37ms/step\n"
     ]
    }
   ],
   "source": [
    "y_pred = model.predict(X_test) #getting predictions on the trained model\n",
    "y_pred_ = (y_pred > 0.5) "
   ]
  },
  {
   "cell_type": "code",
   "execution_count": 52,
   "id": "da153309",
   "metadata": {},
   "outputs": [
    {
     "name": "stdout",
     "output_type": "stream",
     "text": [
      "\n",
      "\n",
      "confusion matrix\n",
      "\n",
      "\n",
      "[[22070  7825]\n",
      " [ 8182 21923]]\n",
      "\n",
      "\n"
     ]
    },
    {
     "data": {
      "image/png": "[encoded data removed]",
      "text/plain": [
       "<Figure size 800x800 with 2 Axes>"
      ]
     },
     "metadata": {},
     "output_type": "display_data"
    }
   ],
   "source": [
    "print('\\n')\n",
    "print(\"confusion matrix\")\n",
    "print('\\n')\n",
    "CR=confusion_matrix(Y_test, y_pred_)\n",
    "print(CR)\n",
    "print('\\n')\n",
    "\n",
    "fig, ax = plot_confusion_matrix(conf_mat=CR,figsize=(8, 8),\n",
    "                                show_absolute=True,\n",
    "                                show_normed=True,\n",
    "                                colorbar=True)\n",
    "plt.show()"
   ]
  },
  {
   "cell_type": "markdown",
   "id": "2d2ab566",
   "metadata": {},
   "source": [
    "If your model isn’t classifying properly, here are some potential improvements:\n",
    "\n",
    "1. **Increase Model Complexity**: Add more layers or neurons.\n",
    "2. **Hyperparameter Tuning**: Adjust learning rate, batch size, epochs.\n",
    "3. **Try Different Architectures**: Experiment with CNNs, RNNs, or transformers if applicable.\n",
    "4. **Feature Engineering**: Extract more relevant features or normalize/scale them.\n",
    "5. **Data Augmentation**: Create synthetic samples to increase diversity.\n",
    "6. **Use Regularization**: Add dropout layers or L2 regularization.\n",
    "7. **Adjust Class Weights**: Handle class imbalance by setting `class_weight`.\n",
    "8. **Collect More Data**: Gather more labeled examples if feasible.\n",
    "9. **Ensemble Models**: Combine predictions from multiple models for robustness.\n",
    "\n",
    "These approaches can improve your model's accuracy and generalization."
   ]
  }
 ],
 "metadata": {
  "kernelspec": {
   "display_name": "Python (default_env)",
   "language": "python",
   "name": "default_env"
  },
  "language_info": {
   "codemirror_mode": {
    "name": "ipython",
    "version": 3
   },
   "file_extension": ".py",
   "mimetype": "text/x-python",
   "name": "python",
   "nbconvert_exporter": "python",
   "pygments_lexer": "ipython3",
   "version": "3.9.18"
  }
 },
 "nbformat": 4,
 "nbformat_minor": 5
}
