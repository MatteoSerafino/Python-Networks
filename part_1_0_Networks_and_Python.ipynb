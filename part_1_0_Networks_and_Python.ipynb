{
 "cells": [
  {
   "cell_type": "markdown",
   "metadata": {},
   "source": [
    "# Networks & Python\n",
    "\n",
    "Handling Networks through python is an easy task, thanks to different open-source libraries, such as:\n",
    "\n",
    "NetowrkX: https://networkx.github.io/documentation/stable/index.html\n",
    "\n",
    "Igraph: https://igraph.org/python/\n",
    "\n",
    "graph-tool: https://graph-tool.skewed.de/\n",
    "\n",
    "In most cases, these libraries can perform the same kind of analyses on a given network.\n",
    "They differ in terms of running time."
   ]
  },
  {
   "cell_type": "code",
   "execution_count": 1,
   "metadata": {},
   "outputs": [
    {
     "data": {
      "image/png": "[encoded data removed]",
      "text/plain": [
       "<IPython.core.display.Image object>"
      ]
     },
     "execution_count": 1,
     "metadata": {},
     "output_type": "execute_result"
    }
   ],
   "source": [
    "from IPython.display import Image\n",
    "Image(filename='libraries_comparison.PNG') "
   ]
  },
  {
   "cell_type": "markdown",
   "metadata": {},
   "source": [
    "Before discussing the functionalities of NetworkX (despite is not the faster one, NetworkX is the library with more complete documentation, which is essential for a beginner) I will first give you an insight into how these libraries work, what they do when you use one of their algorithm.\n",
    "\n",
    "### Installation of NetworkX\n",
    "\n",
    "with can use pip to install and upgrade packages. Just type on the shell\n",
    "\n",
    "pip install networkx\n",
    "\n",
    "or, for upgrading\n",
    "\n",
    "pip install --upgrade networkx\n",
    "\n",
    "## From the edge-list to a network"
   ]
  },
  {
   "cell_type": "code",
   "execution_count": 2,
   "metadata": {},
   "outputs": [],
   "source": [
    "#First thing to do: import the libraries§\n",
    "import matplotlib.pyplot as plt\n",
    "import numpy as np\n",
    "import powerlaw\n",
    "import networkx as nx\n",
    "import time\n",
    "import pandas as pd"
   ]
  },
  {
   "cell_type": "code",
   "execution_count": 3,
   "metadata": {},
   "outputs": [],
   "source": [
    "#path of the edge list\n",
    "path_file='BA_model.txt'\n",
    "edge_list=pd.read_csv('BA_model.txt', delimiter = ' ' ,names=['source','target'])"
   ]
  },
  {
   "cell_type": "code",
   "execution_count": 4,
   "metadata": {},
   "outputs": [
    {
     "data": {
      "text/html": [
       "<div>\n",
       "<style scoped>\n",
       "    .dataframe tbody tr th:only-of-type {\n",
       "        vertical-align: middle;\n",
       "    }\n",
       "\n",
       "    .dataframe tbody tr th {\n",
       "        vertical-align: top;\n",
       "    }\n",
       "\n",
       "    .dataframe thead th {\n",
       "        text-align: right;\n",
       "    }\n",
       "</style>\n",
       "<table border=\"1\" class=\"dataframe\">\n",
       "  <thead>\n",
       "    <tr style=\"text-align: right;\">\n",
       "      <th></th>\n",
       "      <th>source</th>\n",
       "      <th>target</th>\n",
       "    </tr>\n",
       "  </thead>\n",
       "  <tbody>\n",
       "    <tr>\n",
       "      <th>0</th>\n",
       "      <td>0</td>\n",
       "      <td>5</td>\n",
       "    </tr>\n",
       "    <tr>\n",
       "      <th>1</th>\n",
       "      <td>0</td>\n",
       "      <td>6</td>\n",
       "    </tr>\n",
       "    <tr>\n",
       "      <th>2</th>\n",
       "      <td>0</td>\n",
       "      <td>15</td>\n",
       "    </tr>\n",
       "    <tr>\n",
       "      <th>3</th>\n",
       "      <td>0</td>\n",
       "      <td>72</td>\n",
       "    </tr>\n",
       "    <tr>\n",
       "      <th>4</th>\n",
       "      <td>0</td>\n",
       "      <td>92</td>\n",
       "    </tr>\n",
       "    <tr>\n",
       "      <th>5</th>\n",
       "      <td>0</td>\n",
       "      <td>162</td>\n",
       "    </tr>\n",
       "    <tr>\n",
       "      <th>6</th>\n",
       "      <td>0</td>\n",
       "      <td>249</td>\n",
       "    </tr>\n",
       "    <tr>\n",
       "      <th>7</th>\n",
       "      <td>0</td>\n",
       "      <td>258</td>\n",
       "    </tr>\n",
       "    <tr>\n",
       "      <th>8</th>\n",
       "      <td>0</td>\n",
       "      <td>290</td>\n",
       "    </tr>\n",
       "    <tr>\n",
       "      <th>9</th>\n",
       "      <td>0</td>\n",
       "      <td>292</td>\n",
       "    </tr>\n",
       "  </tbody>\n",
       "</table>\n",
       "</div>"
      ],
      "text/plain": [
       "   source  target\n",
       "0       0       5\n",
       "1       0       6\n",
       "2       0      15\n",
       "3       0      72\n",
       "4       0      92\n",
       "5       0     162\n",
       "6       0     249\n",
       "7       0     258\n",
       "8       0     290\n",
       "9       0     292"
      ]
     },
     "execution_count": 4,
     "metadata": {},
     "output_type": "execute_result"
    }
   ],
   "source": [
    "edge_list[:10]"
   ]
  },
  {
   "cell_type": "code",
   "execution_count": 5,
   "metadata": {},
   "outputs": [],
   "source": [
    "#Initializate an empty Graph\n",
    "G=nx.Graph()"
   ]
  },
  {
   "cell_type": "code",
   "execution_count": 6,
   "metadata": {},
   "outputs": [],
   "source": [
    "#add nodes\n",
    "#let us consider the first 10 raws of the edge_list\n",
    "nodes=[0,5, 6, 15, 72, 92, 162, 249, 258, 290, 292]\n",
    "G.add_nodes_from(nodes)"
   ]
  },
  {
   "cell_type": "code",
   "execution_count": 7,
   "metadata": {},
   "outputs": [
    {
     "data": {
      "image/png": "[encoded data removed]",
      "text/plain": [
       "<Figure size 432x288 with 1 Axes>"
      ]
     },
     "metadata": {},
     "output_type": "display_data"
    }
   ],
   "source": [
    "nx.draw(G,with_labels=True)"
   ]
  },
  {
   "cell_type": "code",
   "execution_count": 8,
   "metadata": {},
   "outputs": [
    {
     "data": {
      "text/plain": [
       "NodeView((0, 5, 6, 15, 72, 92, 162, 249, 258, 290, 292))"
      ]
     },
     "execution_count": 8,
     "metadata": {},
     "output_type": "execute_result"
    }
   ],
   "source": [
    "nx.nodes(G)"
   ]
  },
  {
   "cell_type": "markdown",
   "metadata": {},
   "source": [
    "in order to iterate over a pandas dataframe, you can use:\n",
    "\n",
    "**iterrows()**\n",
    "\n",
    "which returns to each line of the dataframe"
   ]
  },
  {
   "cell_type": "code",
   "execution_count": 9,
   "metadata": {},
   "outputs": [
    {
     "data": {
      "text/plain": [
       "(0,\n",
       " source    0\n",
       " target    5\n",
       " Name: 0, dtype: int64)"
      ]
     },
     "execution_count": 9,
     "metadata": {},
     "output_type": "execute_result"
    }
   ],
   "source": [
    "for _tuple in edge_list[:10].iterrows():\n",
    "    break\n",
    "_tuple"
   ]
  },
  {
   "cell_type": "code",
   "execution_count": 10,
   "metadata": {},
   "outputs": [],
   "source": [
    "#add the edges\n",
    "for _tuple in edge_list[:10].iterrows():\n",
    "    #print(_tuple[1].source,_tuple[1].target)\n",
    "    G.add_edge(_tuple[1].source,_tuple[1].target)"
   ]
  },
  {
   "cell_type": "code",
   "execution_count": 11,
   "metadata": {},
   "outputs": [
    {
     "data": {
      "image/png": "[encoded data removed]",
      "text/plain": [
       "<Figure size 432x288 with 1 Axes>"
      ]
     },
     "metadata": {},
     "output_type": "display_data"
    }
   ],
   "source": [
    "nx.draw(G,with_labels=True)"
   ]
  },
  {
   "cell_type": "markdown",
   "metadata": {},
   "source": [
    "In the example before we just consider the first 10 raws of the edgelist. \n",
    "\n",
    "In order to get the complete graph we can either repeat the previous steps by considering the entire edge-list\n",
    "or we can use a built-in function of Networkx:\n",
    "\n",
    "**G = nx.read_edgelist(\"test.edgelist\")**"
   ]
  },
  {
   "cell_type": "code",
   "execution_count": 12,
   "metadata": {},
   "outputs": [
    {
     "name": "stdout",
     "output_type": "stream",
     "text": [
      "0.1338484287261963\n"
     ]
    }
   ],
   "source": [
    "start=time.time()\n",
    "G = nx.read_edgelist(path_file)\n",
    "print(time.time()-start)"
   ]
  },
  {
   "cell_type": "code",
   "execution_count": 13,
   "metadata": {},
   "outputs": [
    {
     "name": "stdout",
     "output_type": "stream",
     "text": [
      "3.841491222381592\n"
     ]
    }
   ],
   "source": [
    "#add the edges\n",
    "G1=nx.Graph()\n",
    "start=time.time()\n",
    "for _tuple in edge_list.iterrows():\n",
    "    #print(_tuple[1].source,_tuple[1].target)\n",
    "    G1.add_edge(_tuple[1].source,_tuple[1].target)\n",
    "print(time.time()-start)"
   ]
  },
  {
   "cell_type": "markdown",
   "metadata": {},
   "source": [
    "a naive approach is $\\sim$ 25 times slower than an already existing implementation"
   ]
  },
  {
   "cell_type": "code",
   "execution_count": 14,
   "metadata": {},
   "outputs": [
    {
     "data": {
      "text/plain": [
       "NodeView(('0', '5', '6', '15', '72', '92', '162', '249', '258', '290', '292', '297', '337', '524', '543', '979', '1160', '1184', '1239', '1299', '1553', '1828', '1870', '2059', '2255', '2505', '2907', '2945', '3034', '3470', '3859', '4763', '4994', '5077', '5110', '5341', '5345', '5450', '5863', '5980', '6400', '6830', '6843', '7043', '7092', '7344', '8213', '8712', '8841', '8900', '9513', '9814', '1', '7', '8', '9', '10', '11', '12', '16', '18', '30', '33', '35', '36', '37', '40', '56', '62', '71', '74', '83', '85', '96', '97', '119', '132', '153', '159', '165', '174', '176', '179', '180', '190', '192', '239', '260', '261', '288', '291', '322', '324', '325', '329', '330', '331', '344', '350', '357', '358', '363', '394', '402', '410', '420', '439', '440', '441', '504', '525', '547', '556', '674', '722', '729', '742', '768', '804', '847', '852', '860', '870', '883', '886', '890', '895', '943', '954', '956', '967', '968', '1006', '1014', '1039', '1069', '1104', '1116', '1122', '1126', '1182', '1185', '1192', '1212', '1218', '1226', '1231', '1272', '1274', '1354', '1388', '1411', '1442', '1464', '1504', '1513', '1526', '1557', '1568', '1580', '1584', '1627', '1659', '1701', '1732', '1745', '1764', '1779', '1866', '1867', '1912', '1931', '1992', '2038', '2089', '2092', '2120', '2192', '2262', '2297', '2332', '2381', '2433', '2438', '2451', '2472', '2477', '2487', '2539', '2575', '2621', '2632', '2753', '2771', '2785', '2819', '2829', '2946', '3130', '3176', '3210', '3306', '3366', '3368', '3380', '3397', '3570', '3645', '3669', '3696', '3828', '3855', '3883', '3923', '3987', '3988', '4018', '4066', '4071', '4186', '4199', '4447', '4466', '4546', '4588', '4644', '4877', '4920', '4944', '4951', '4986', '5021', '5101', '5109', '5122', '5125', '5144', '5158', '5166', '5181', '5315', '5350', '5478', '5528', '5568', '5670', '5703', '5947', '5952', '5982', '6068', '6175', '6231', '6274', '6306', '6327', '6373', '6382', '6474', '6546', '6691', '6783', '6855', '6860', '6920', '6925', '6986', '6994', '7003', '7032', '7087', '7095', '7243', '7262', '7315', '7409', '7437', '7521', '7535', '7589', '7648', '7667', '7724', '7765', '7834', '8011', '8229', '8352', '8444', '8545', '8581', '8654', '8710', '8846', '8897', '8949', '8981', '9039', '9051', '9296', '9404', '9606', '9610', '9653', '9760', '9826', '9966', '2', '13', '20', '42', '51', '58', '65', '77', '82', '108', '127', '139', '252', '264', '307', '311', '319', '334', '342', '355', '371', '399', '454', '501', '546', '636', '676', '741', '789', '805', '877', '894', '915', '975', '988', '1070', '1142', '1159', '1183', '1210', '1275', '1450', '1470', '1505', '1570', '1582', '1727', '1773', '1785', '1790', '1794', '1834', '2023', '2104', '2136', '2159', '2392', '2516', '2563', '2617', '2847', '2854', '2877', '2913', '2914', '2915', '3054', '3075', '3189', '3230', '3298', '3337', '3394', '3442', '3551', '3699', '3712', '3746', '3788', '3804', '3847', '3916', '3986', '4124', '4364', '4367', '4625', '4806', '5473', '5845', '5985', '6058', '6096', '6103', '6117', '6177', '6205', '6418', '6545', '6653', '6746', '6886', '7113', '7175', '7197', '7210', '7475', '7543', '7646', '8152', '8408', '8522', '8586', '8642', '8643', '8879', '8904', '9012', '9109', '9512', '9594', '9861', '3', '14', '19', '21', '26', '27', '29', '39', '41', '48', '57', '61', '67', '70', '75', '78', '104', '107', '111', '124', '125', '129', '142', '150', '157', '163', '166', '209', '248', '251', '266', '270', '271', '300', '304', '313', '348', '361', '372', '376', '383', '387', '443', '462', '528', '535', '538', '545', '552', '656', '661', '673', '682', '693', '694', '699', '712', '738', '882', '946', '949', '996', '1011', '1042', '1083', '1086', '1094', '1096', '1109', '1206', '1209', '1257', '1282', '1288', '1311', '1330', '1357', '1385', '1392', '1404', '1406', '1426', '1480', '1510', '1522', '1563', '1576', '1609', '1691', '1704', '1733', '1736', '1742', '1769', '1771', '1815', '1929', '1960', '1962', '1965', '1977', '1982', '2028', '2073', '2076', '2083', '2096', '2126', '2165', '2206', '2311', '2358', '2525', '2549', '2577', '2585', '2666', '2677', '2704', '2711', '2720', '2721', '2743', '2752', '2875', '2919', '2921', '2971', '3010', '3048', '3071', '3128', '3151', '3372', '3376', '3392', '3548', '3589', '3619', '3628', '3681', '3686', '3688', '3863', '3888', '3958', '4001', '4005', '4006', '4078', '4095', '4145', '4162', '4192', '4301', '4316', '4341', '4405', '4424', '4470', '4598', '4655', '4886', '4906', '4955', '5008', '5045', '5084', '5146', '5164', '5218', '5397', '5406', '5457', '5586', '5614', '5625', '5769', '5872', '5887', '5897', '5964', '5976', '6074', '6124', '6230', '6253', '6283', '6331', '6381', '6568', '6591', '6598', '6700', '6790', '6842', '6895', '6931', '6935', '6952', '6962', '7123', '7241', '7261', '7279', '7285', '7356', '7388', '7440', '7456', '7473', '7507', '7590', '7708', '7836', '7838', '7889', '8072', '8133', '8176', '8309', '8464', '8535', '8718', '8751', '8769', '8996', '9021', '9132', '9165', '9204', '9253', '9366', '9368', '9428', '9475', '9496', '9503', '9533', '9690', '9773', '9774', '9858', '9900', '9920', '9992', '9996', '4', '17', '23', '28', '32', '47', '69', '126', '198', '199', '237', '332', '389', '537', '717', '770', '773', '775', '820', '849', '898', '916', '1000', '1052', '1300', '1335', '1355', '1366', '1493', '1590', '1631', '1716', '1759', '1813', '1858', '1877', '2148', '2603', '2765', '2909', '3041', '3061', '3259', '3350', '3535', '3553', '3605', '3780', '3837', '4072', '4128', '4148', '4386', '4636', '4650', '4758', '4771', '4902', '5004', '5139', '5162', '5195', '5407', '5541', '5646', '5696', '5782', '5814', '5977', '6079', '6120', '6517', '6693', '6922', '7282', '7980', '8055', '8399', '8437', '8469', '8840', '9181', '9295', '9791', '34', '54', '73', '90', '100', '113', '115', '141', '143', '161', '187', '191', '197', '200', '219', '224', '229', '263', '265', '268', '275', '281', '293', '296', '298', '327', '340', '347', '392', '424', '460', '467', '482', '486', '507', '566', '593', '629', '632', '649', '724', '726', '749', '834', '835', '840', '845', '872', '928', '985', '994', '1015', '1045', '1111', '1133', '1151', '1163', '1171', '1177', '1197', '1207', '1233', '1238', '1245', '1313', '1356', '1369', '1389', '1413', '1428', '1449', '1459', '1462', '1476', '1487', '1494', '1508', '1561', '1565', '1577', '1586', '1619', '1640', '1645', '1650', '1669', '1671', '1699', '1738', '1780', '1791', '1847', '1914', '1922', '1936', '1981', '2039', '2100', '2106', '2113', '2162', '2194', '2218', '2235', '2327', '2360', '2397', '2406', '2412', '2415', '2435', '2490', '2492', '2494', '2511', '2556', '2582', '2605', '2715', '2719', '2781', '2798', '2801', '2872', '2887', '2939', '2948', '2974', '3063', '3066', '3080', '3082', '3129', '3156', '3222', '3248', '3508', '3536', '3560', '3608', '3708', '3762', '3773', '3812', '3822', '3832', '3925', '3969', '3983', '4020', '4038', '4129', '4131', '4151', '4218', '4256', '4291', '4317', '4505', '4528', '4613', '4624', '4649', '4712', '4778', '4779', '4817', '4855', '4890', '4899', '4991', '5016', '5073', '5096', '5104', '5253', '5278', '5375', '5429', '5559', '5582', '5627', '5667', '5690', '5745', '5749', '5754', '5772', '5816', '5823', '5827', '5915', '5921', '6011', '6015', '6029', '6050', '6087', '6123', '6180', '6279', '6353', '6421', '6478', '6495', '6541', '6554', '6599', '6722', '6756', '6989', '7129', '7131', '7149', '7181', '7193', '7217', '7252', '7290', '7302', '7346', '7369', '7560', '7782', '7788', '7907', '7956', '7963', '8013', '8036', '8046', '8064', '8071', '8136', '8190', '8268', '8297', '8395', '8412', '8423', '8471', '8733', '8823', '8971', '8989', '9180', '9291', '9528', '9743', '9870', '9953', '22', '43', '64', '89', '91', '95', '109', '112', '137', '138', '146', '164', '168', '178', '204', '207', '217', '220', '230', '240', '244', '245', '250', '280', '310', '403', '413', '425', '430', '434', '483', '516', '541', '561', '585', '625', '645', '703', '725', '760', '779', '790', '822', '839', '893', '897', '905', '907', '936', '1001', '1009', '1031', '1089', '1105', '1106', '1119', '1145', '1172', '1208', '1243', '1268', '1270', '1281', '1306', '1309', '1327', '1372', '1405', '1423', '1431', '1432', '1434', '1440', '1461', '1486', '1509', '1573', '1593', '1611', '1624', '1667', '1765', '1786', '1798', '1826', '1907', '1913', '1928', '1940', '1952', '1955', '2036', '2046', '2078', '2097', '2102', '2128', '2139', '2164', '2184', '2213', '2257', '2275', '2284', '2317', '2322', '2337', '2355', '2426', '2442', '2470', '2548', '2667', '2710', '2725', '2815', '2853', '2858', '2868', '2890', '2892', '2928', '2961', '2966', '2970', '2983', '3025', '3097', '3148', '3154', '3186', '3200', '3268', '3309', '3312', '3391', '3423', '3430', '3451', '3456', '3464', '3510', '3513', '3555', '3601', '3625', '3653', '3714', '3725', '3749', '3841', '3871', '3903', '3913', '3936', '3944', '3945', '4161', '4196', '4212', '4303', '4320', '4343', '4344', '4370', '4545', '4648', '4674', '4735', '4775', '4780', '4829', '4844', '4948', '4964', '5011', '5012', '5138', '5171', '5249', '5285', '5305', '5319', '5325', '5358', '5489', '5547', '5562', '5566', '5626', '5709', '5747', '5789', '5791', '5796', '5857', '5878', '5900', '5901', '5913', '5971', '6012', '6032', '6165', '6190', '6254', '6447', '6570', '6579', '6606', '6607', '6645', '6815', '6839', '6890', '6899', '6940', '6990', '7033', '7174', '7248', '7387', '7418', '7596', '7672', '7752', '7801', '7841', '7842', '7879', '7914', '7931', '8041', '8065', '8067', '8088', '8303', '8322', '8403', '8432', '8633', '8639', '8877', '8887', '8902', '8916', '8943', '8952', '8961', '8994', '9003', '9068', '9076', '9130', '9162', '9301', '9389', '9499', '9657', '9708', '9712', '9752', '9796', '9871', '9878', '9884', '9981', '25', '38', '50', '79', '101', '110', '114', '128', '133', '149', '155', '212', '218', '234', '236', '238', '254', '289', '316', '320', '323', '346', '360', '393', '421', '435', '456', '473', '480', '485', '511', '523', '527', '540', '590', '603', '606', '650', '686', '718', '727', '755', '769', '796', '803', '818', '862', '864', '869', '871', '908', '933', '948', '950', '973', '990', '1060', '1071', '1103', '1129', '1135', '1165', '1229', '1256', '1307', '1325', '1340', '1373', '1376', '1397', '1427', '1465', '1474', '1536', '1542', '1564', '1634', '1646', '1648', '1656', '1720', '1855', '1883', '1895', '1896', '1938', '1983', '2007', '2058', '2144', '2172', '2226', '2240', '2265', '2302', '2342', '2357', '2382', '2383', '2554', '2626', '2734', '2739', '2805', '2836', '2856', '2867', '2874', '2955', '2984', '3049', '3052', '3055', '3143', '3182', '3187', '3375', '3417', '3418', '3429', '3476', '3558', '3569', '3694', '3743', '3770', '3784', '3829', '3880', '4056', '4127', '4138', '4141', '4185', '4263', '4299', '4493', '4499', '4547', '4602', '4604', '4679', '4751', '4774', '4833', '4926', '4967', '5124', '5140', '5198', '5248', '5298', '5468', '5506', '5530', '5583', '5595', '5605', '5651', '5668', '5788', '5844', '5889', '6016', '6191', '6194', '6206', '6241', '6405', '6427', '6464', '6486', '6553', '6684', '6730', '6737', '6841', '6869', '6928', '6943', '6950', '6966', '7084', '7133', '7385', '7484', '7534', '7584', '7594', '7635', '7669', '7773', '7845', '7909', '7921', '7961', '7997', '8060', '8102', '8134', '8284', '8315', '8328', '8356', '8435', '8565', '8570', '8603', '8613', '8692', '8777', '8857', '8942', '8988', '8997', '9103', '9145', '9148', '9360', '9370', '9587', '9679', '9759', '9788', '9794', '9815', '9918', '9987', '49', '52', '76', '80', '98', '116', '140', '144', '160', '172', '188', '189', '223', '228', '232', '246', '256', '312', '314', '345', '349', '404', '419', '423', '455', '481', '488', '491', '502', '544', '551', '562', '583', '599', '621', '622', '652', '653', '659', '665', '666', '667', '756', '764', '783', '807', '809', '960', '964', '983', '1036', '1040', '1041', '1046', '1059', '1085', '1132', '1137', '1154', '1161', '1179', '1203', '1232', '1250', '1258', '1261', '1286', '1292', '1304', '1344', '1393', '1407', '1410', '1424', '1425', '1439', '1506', '1591', '1618', '1629', '1637', '1644', '1722', '1728', '1783', '1800', '1831', '1852', '1857', '1868', '1892', '1900', '1905', '1944', '1946', '1971', '2105', '2114', '2199', '2238', '2241', '2256', '2273', '2314', '2373', '2390', '2409', '2434', '2540', '2542', '2648', '2659', '2665', '2699', '2744', '2760', '2796', '2826', '2852', '2861', '2880', '2916', '2972', '2977', '2997', '3029', '3072', '3179', '3236', '3303', '3329', '3364', '3370', '3371', '3390', '3428', '3623', '3690', '3700', '3707', '3711', '3720', '3772', '3840', '3906', '3971', '3973', '4039', '4091', '4176', '4280', '4323', '4358', '4359', '4393', '4399', '4481', '4619', '4631', '4646', '4656', '4692', '4733', '4767', '4783', '4835', '4840', '4959', '5035', '5047', '5051', '5057', '5066', '5071', '5072', '5135', '5229', '5234', '5276', '5290', '5304', '5534', '5592', '5634', '5764', '5882', '5920', '5930', '5991', '6020', '6034', '6055', '6056', '6063', '6226', '6259', '6268', '6358', '6401', '6437', '6483', '6560', '6664', '6670', '6703', '6736', '6782', '6789', '6826', '6866', '6884', '6981', '6995', '6996', '7007', '7021', '7208', '7246', '7309', '7336', '7345', '7367', '7408', '7883', '7925', '7927', '7976', '8003', '8100', '8216', '8251', '8325', '8333', '8350', '8762', '8766', '8856', '9189', '9371', '9451', '9491', '9541', '9605', '9800', '9806', '9890', '9902', '9916', '9947', '9975', '31', '53', '59', '68', '94', '131', '222', '257', '259', '369', '395', '407', '472', '514', '568', '640', '720', '787', '851', '919', '921', '989', '1030', '1200', '1204', '1244', '1295', '1370', '1408', '1412', '1489', '1680', '1685', '1752', '1776', '1869', '1919', '2000', '2032', '2050', '2082', '2109', '2112', '2363', '2496', '2639', '2662', '2714', '2769', '2830', '2897', '3118', '3201', '3253', '3279', '3450', '3472', '3654', '3731', '3854', '3915', '3930', '4073', '4100', '4154', '4268', '4333', '4360', '4494', '4535', '4605', '4658', '4843', '4879', '5103', '5174', '5329', '5597', '5672', '5781', '5794', '5812', '5821', '5970', '6007', '6075', '6107', '6114', '6143', '6363', '6497', '6515', '6537', '6540', '6695', '7005', '7318', '7491', '7971', '8109', '8276', '8537', '8597', '8623', '8786', '8930', '9088', '9123', '9244', '9397', '9446', '9613', '9851', '9963', '24', '44', '45', '106', '118', '122', '145', '156', '193', '195', '213', '233', '273', '318', '353', '354', '367', '386', '400', '453', '494', '518', '533', '604', '620', '646', '681', '696', '709', '711', '744', '771', '786', '904', '969', '993', '1008', '1012', '1026', '1115', '1128', '1138', '1234', '1265', '1283', '1287', '1347', '1386', '1403', '1488', '1492', '1496', '1533', '1550', '1600', '1649', '1707', '1789', '1803', '1835', '1875', '1890', '1979', '2027', '2129', '2142', '2152', '2248', '2279', '2280', '2295', '2310', '2350', '2359', '2372', '2457', '2509', '2543', '2573', '2598', '2620', '2683', '2728', '2806', '2810', '2951', '3085', '3094', '3178', '3404', '3405', '3422', '3478', '3577', '3702', '3730', '3741', '3757', '3764', '3805', '3850', '3866', '3878', '3985', '4065', '4090', '4106', '4147', '4171', '4174', '4194', '4222', '4244', '4250', '4272', '4292', '4352', '4413', '4462', '4484', '4591', '4617', '4634', '4637', '4641', '4727', '4739', '4866', '4943', '5032', '5155', '5256', '5275', '5356', '5387', '5401', '5469', '5552', '5574', '5659', '5692', '5727', '5752', '5766', '5778', '5790', '5931', '6026', '6057', '6110', '6162', '6164', '6187', '6227', '6276', '6534', '6547', '6661', '6715', '6733', '6748', '6749', '6878', '6908', '6910', '7078', '7138', '7147', '7167', '7168', '7240', '7488', '7519', '7530', '7576', '7762', '7952', '7996', '8063', '8144', '8162', '8169', '8218', '8246', '8298', '8647', '8663', '8665', '8706', '8709', '8748', '8800', '8814', '8920', '8945', '9032', '9099', '9192', '9457', '9467', '9495', '9546', '9557', '9563', '9578', '9635', '9650', '9676', '9751', '9873', '9998', '55', '66', '117', '152', '183', '210', '226', '262', '294', '303', '305', '306', '416', '433', '451', '484', '495', '553', '567', '573', '608', '635', '688', '763', '780', '799', '800', '806', '856', '887', '902', '934', '1054', '1061', '1062', '1068', '1099', '1193', '1251', '1263', '1277', '1314', '1317', '1333', '1361', '1375', '1453', '1507', '1621', '1623', '1664', '1672', '1688', '1735', '1750', '1796', '1827', '1887', '1898', '1990', '2014', '2026', '2042', '2131', '2174', '2197', '2395', '2419', '2495', '2503', '2669', '2687', '2754', '2768', '2775', '2962', '3058', '3073', '3113', '3124', '3126', '3286', '3287', '3411', '3427', '3437', '3441', '3483', '3527', '3594', '3635', '3640', '3668', '3775', '3827', '3842', '3895', '4181', '4298', '4318', '4518', '4525', '4541', '4622', '4630', '4715', '4845', '4864', '4901', '5022', '5030', '5097', '5169', '5196', '5231', '5288', '5300', '5511', '5531', '5584', '5673', '5736', '5843', '5868', '5899', '6046', '6132', '6267', '6390', '6450', '6456', '6462', '6491', '6744', '6780', '6803', '6824', '6893', '6957', '7025', '7040', '7046', '7049', '7053', '7062', '7145', '7158', '7206', '7544', '7549', '7568', '7623', '7640', '7707', '7767', '7800', '7817', '7870', '7877', '8056', '8120', '8145', '8195', '8331', '8360', '8364', '8371', '8513', '8578', '8926', '8972', '8980', '9041', '9083', '9106', '9122', '9214', '9228', '9255', '9330', '9382', '9439', '9680', '9732', '9828', '9869', '9897', '9914', '9961', '84', '121', '175', '269', '301', '352', '415', '503', '550', '572', '586', '592', '638', '689', '732', '735', '739', '774', '795', '868', '874', '942', '1027', '1158', '1170', '1308', '1359', '1391', '1402', '1409', '1596', '1668', '1774', '1844', '1969', '2024', '2065', '2203', '2294', '2428', '2498', '2551', '2558', '2560', '2682', '2729', '2816', '2929', '2931', '2944', '3121', '3158', '3297', '3313', '3359', '3374', '3407', '3414', '3538', '3554', '3853', '3937', '4012', '4033', '4119', '4130', '4293', '4306', '4384', '4467', '4504', '4586', '4755', '4895', '4979', '5330', '5466', '6155', '6216', '6299', '6305', '6453', '6585', '6710', '6868', '6993', '7035', '7164', '7273', '7450', '7609', '7683', '7754', '7755', '7844', '8047', '8883', '8898', '8967', '9015', '9055', '9209', '9241', '9336', '9425', '9709', '9797', '9882', '9964', '46', '87', '93', '105', '123', '373', '422', '530', '584', '605', '615', '750', '853', '910', '922', '931', '972', '995', '1065', '1077', '1082', '1146', '1227', '1249', '1360', '1367', '1399', '1469', '1520', '1521', '1535', '1674', '1678', '1711', '1712', '1802', '1824', '1859', '1897', '1976', '2233', '2266', '2283', '2296', '2396', '2587', '2641', '2787', '2803', '2820', '3062', '3258', '3271', '3302', '3310', '3320', '3343', '3401', '3444', '3459', '3474', '3495', '3557', '3565', '3617', '3652', '3876', '3887', '3942', '3954', '4004', '4011', '4035', '4112', '4134', '4389', '4621', '4661', '4803', '4874', '4913', '5025', '5049', '5056', '5063', '5099', '5208', '5262', '5280', '5320', '5333', '5419', '5494', '5497', '5577', '5644', '5678', '5773', '5891', '5929', '5950', '6004', '6129', '6148', '6197', '6215', '6255', '6264', '6272', '6280', '6332', '6395', '6506', '6692', '6731', '6916', '6967', '7004', '7008', '7144', '7189', '7190', '7230', '7434', '7815', '7824', '7951', '8001', '8151', '8182', '8277', '8279', '8393', '8409', '8457', '8973', '9339', '9343', '9506', '9530', '9707', '9745', '9819', '81', '86', '134', '167', '211', '267', '374', '377', '428', '442', '476', '490', '607', '623', '683', '706', '802', '859', '917', '1049', '1110', '1124', '1140', '1191', '1216', '1291', '1322', '1323', '1538', '1574', '1675', '1737', '1782', '1911', '1924', '1988', '2051', '2052', '2055', '2062', '2116', '2122', '2228', '2234', '2263', '2329', '2344', '2458', '2479', '2501', '2536', '2600', '2795', '2990', '3022', '3204', '3227', '3295', '3525', '3705', '3818', '3901', '4146', '4273', '4279', '4342', '4396', '4480', '4645', '4716', '4819', '4928', '5488', '5669', '5817', '5842', '5870', '5916', '6089', '6176', '6406', '6410', '6502', '6513', '6573', '6587', '6657', '6796', '7009', '7055', '7115', '7159', '7453', '7523', '7662', '7699', '7732', '7825', '7911', '8025', '8122', '8143', '8337', '8391', '8454', '8744', '8838', '8963', '9091', '9100', '9119', '9120', '9380', '9673', '9701', '9777', '9846', '9933', '9945', '88', '171', '279', '427', '848', '888', '1220', '1346', '1748', '1862', '1959', '2075', '2493', '2713', '3127', '3620', '3846', '3952', '4314', '4675', '4707', '4873', '4909', '5434', '5522', '5571', '5743', '5799', '5820', '5855', '5864', '6027', '7805', '8921', '99', '202', '227', '277', '278', '302', '328', '335', '401', '580', '700', '957', '1007', '1213', '1230', '1241', '1248', '1430', '1544', '1548', '1749', '1933', '1985', '2025', '2035', '2060', '2085', '2088', '2151', '2176', '2242', '2413', '2607', '2730', '2812', '2900', '2999', '3221', '3351', '3357', '3424', '3799', '4121', '4246', '4523', '4726', '5002', '5192', '5222', '5485', '5507', '5519', '5656', '5757', '6005', '6116', '6232', '6330', '6337', '6352', '6823', '7124', '7253', '7394', '7655', '7668', '7852', '7881', '8318', '8760', '8906', '9172', '9392', '9436', '9764', '9784', '9982', '60', '231', '309', '315', '362', '426', '563', '577', '600', '644', '662', '695', '697', '719', '730', '751', '891', '901', '926', '1023', '1114', '1134', '1164', '1278', '1364', '1514', '1594', '1639', '1740', '1822', '2094', '2154', '2251', '2305', '2387', '2489', '2522', '2532', '2591', '2595', '2604', '2606', '2622', '2657', '2737', '2755', '2766', '2770', '2773', '2774', '2831', '2888', '2934', '2963', '3091', '3120', '3164', '3174', '3572', '3588', '3611', '3697', '3851', '4375', '4394', '4458', '4698', '4747', '4815', '5118', '5261', '5301', '5335', '5354', '5460', '5467', '5697', '5760', '5939', '5975', '6053', '6147', '6420', '6511', '6626', '6882', '7213', '7727', '8026', '8142', '8164', '8320', '8609', '8783', '9017', '9112', '9319', '9385', '9604', '9671', '9686', '9711', '9799', '9843', '9865', '135', '158', '215', '287', '308', '333', '384', '489', '499', '519', '534', '582', '690', '701', '704', '747', '772', '879', '1302', '1460', '1555', '1558', '1808', '1811', '1837', '1879', '1923', '2160', '2354', '2400', '2697', '2884', '2994', '3544', '3752', '3875', '3892', '3926', '3978', '4009', '4051', '4059', '4197', '4435', '4810', '4884', '5178', '5182', '5449', '5756', '6151', '6423', '6433', '6614', '6771', '6873', '7277', '7467', '7929', '7985', '7990', '8096', '8234', '8317', '8401', '8593', '9095', '9314', '9519', '9599', '9674', '9762', '9848', '186', '203', '321', '570', '609', '626', '641', '654', '1150', '1332', '1530', '1575', '1670', '2108', '2424', '2647', '2807', '3116', '3269', '3363', '3479', '3671', '3704', '4345', '4366', '4513', '4576', '4582', '4665', '4752', '4793', '4897', '4933', '5189', '5563', '5715', '5835', '5865', '5940', '6037', '6125', '6520', '6701', '7362', '7545', '7620', '7738', '7768', '7932', '8021', '8240', '8307', '8353', '8378', '8381', '8520', '8556', '8596', '8927', '9050', '9169', '9174', '9219', '9231', '9237', '9555', '120', '151', '201', '285', '409', '432', '474', '594', '707', '761', '833', '837', '918', '947', '958', '962', '992', '1002', '1043', '1066', '1081', '1112', '1174', '1223', '1319', '1328', '1358', '1395', '1498', '1537', '1587', '1705', '1819', '1845', '2298', '2315', '2340', '2464', '2480', '2486', '2524', '2564', '2618', '2645', '2949', '3015', '3134', '3152', '3180', '3215', '3224', '3273', '3300', '3416', '3462', '3489', '3523', '3583', '3593', '3673', '3676', '3872', '3996', '4107', '4178', '4287', '4325', '4473', '4544', '4551', '4556', '4589', '4623', '4632', '4760', '4854', '5005', '5267', '5361', '5413', '5700', '5714', '5733', '5813', '6111', '6422', '6440', '6508', '6623', '6636', '6641', '6673', '6942', '7044', '7179', '7229', '7233', '7337', '7540', '7581', '7702', '7807', '7942', '8061', '8097', '8099', '8370', '8474', '8481', '8714', '8754', '8854', '8983', '9096', '9170', '9179', '9232', '9460', '9700', '9737', '9818', '9895', '148', '272', '286', '338', '444', '554', '578', '698', '913', '1050', '1063', '1303', '1477', '1495', '1579', '1871', '1891', '2079', '2084', '2579', '2630', '3345', '3571', '3637', '4123', '4229', '4294', '4666', '4736', '4960', '5019', '5132', '5321', '5465', '5545', '5689', '5909', '6052', '6070', '6239', '6595', '6648', '6829', '7325', '7482', '7511', '8068', '8362', '8941', '9504', '9633', '9780', '242', '458', '517', '619', '721', '925', '1013', '2002', '2214', '2219', '2399', '2449', '2483', '2507', '2550', '2594', '2706', '2750', '3131', '3443', '3521', '3693', '3701', '3710', '4260', '4912', '5328', '5490', '6201', '6322', '6444', '7045', '7101', '7295', '7595', '8049', '8468', '136', '182', '295', '382', '397', '412', '493', '549', '714', '1005', '1032', '1378', '1443', '1560', '1654', '1683', '1708', '1788', '2066', '2124', '2186', '2274', '2394', '2652', '3533', '3858', '3890', '3922', '4213', '4391', '4784', '4794', '4893', '5382', '5576', '7419', '8219', '8451', '8563', '9158', '102', '351', '616', '691', '759', '782', '876', '1018', '1020', '1363', '1383', '1614', '1695', '1807', '2137', '2629', '2634', '2646', '2757', '2950', '2954', '3112', '3263', '3333', '3543', '3610', '3651', '3798', '3982', '4040', '4207', '4509', '4524', '4694', '4888', '4904', '4962', '5044', '5083', '5217', '5303', '5456', '5604', '5744', '5995', '6314', '6341', '6345', '6484', '6588', '6702', '7098', '7103', '7222', '7272', '7654', '7663', '7853', '7968', '9163', '9666', '9726', '9977', '208', '317', '396', '418', '445', '464', '669', '679', '843', '914', '1057', '1178', '1662', '1821', '2107', '2276', '2370', '2568', '2838', '3578', '3830', '3980', '4512', '4515', '4642', '5013', '5427', '5463', '5841', '6662', '7171', '7432', '7577', '7839', '7919', '8617', '9717', '9991', '184', '375', '391', '447', '479', '500', '558', '571', '624', '692', '810', '1048', '1074', '1102', '1181', '1296', '1585', '1964', '3030', '3051', '3076', '3197', '3396', '3537', '3539', '3734', '3939', '4079', '4559', '4832', '5055', '5252', '5296', '5712', '5718', '5770', '5826', '6126', '6208', '6543', '6840', '6864', '6926', '7435', '7745', '7885', '8030', '8225', '8243', '9411', '9571', '9753', '9832', '147', '648', '660', '767', '836', '976', '980', '1818', '1939', '2201', '2380', '2429', '2653', '3117', '3181', '3512', '3546', '3659', '4496', '4552', '4672', '4828', '4982', '5039', '5127', '5346', '5798', '5831', '6709', '6850', '6870', '6933', '7242', '7605', '7628', '7674', '8576', '8657', '9552', '103', '221', '364', '466', '508', '614', '643', '658', '793', '935', '1090', '1237', '1390', '1475', '1612', '1636', '1805', '1849', '1853', '2047', '2080', '2367', '2615', '2670', '2866', '2991', '3567', '3603', '3648', '3833', '4126', '4205', '4572', '4612', '4714', '4724', '4816', '4896', '5134', '5260', '5283', '5496', '5657', '5684', '5706', '5862', '6100', '6195', '6529', '6774', '6883', '7178', '7276', '7458', '7716', '7820', '7858', '7866', '8517', '8544', '8588', '8649', '8771', '8871', '9358', '194', '339', '398', '405', '808', '938', '986', '1088', '1294', '1539', '1655', '1660', '1687', '1893', '1915', '1987', '2249', '2309', '2718', '2869', '2894', '2992', '3257', '3278', '3288', '3308', '3471', '3638', '3709', '3723', '4251', '4270', '4369', '4374', '4549', '4571', '5064', '5479', '5492', '5617', '6010', '6080', '6094', '6286', '6297', '6485', '6898', '6959', '7091', '7148', '7215', '7565', '7750', '7865', '7910', '7917', '7923', '7924', '8008', '8184', '8266', '8311', '8392', '8418', '8442', '8484', '8558', '9019', '9031', '9140', '9844', '9911', '9958', '366', '380', '463', '469', '548', '597', '680', '708', '733', '736', '778', '981', '1038', '1169', '1194', '1271', '1290', '1305', '1456', '1472', '1485', '1527', '1546', '1549', '1608', '1700', '1713', '1734', '1792', '1839', '1843', '1885', '1963', '2005', '2306', '2521', '2570', '2651', '2936', '3031', '3088', '3168', '3185', '3265', '3285', '3324', '3400', '3463', '3663', '3685', '3976', '4002', '4211', '4248', '4277', '4295', '4489', '4500', '4514', '4560', '4824', '4853', '4971', '5145', '5159', '5187', '5408', '5493', '5608', '5713', '6295', '6334', '6343', '6682', '6718', '6861', '6867', '7108', '7427', '7563', '7874', '7967', '8417', '8455', '8493', '8536', '8595', '8699', '8779', '9033', '9136', '9175', '9437', '9580', '9617', '9625', '9817', '9879', '9978', '225', '510', '522', '591', '784', '953', '1143', '1175', '1343', '1401', '1482', '1681', '1697', '1784', '1801', '2033', '2110', '2198', '2488', '2597', '2674', '2860', '2965', '3349', '3582', '3935', '3957', '4017', '4042', '4080', '4203', '4309', '4440', '4565', '4983', '5054', '5314', '5526', '5638', '5895', '5946', '6013', '6051', '6441', '6481', '6671', '6690', '6985', '7729', '7812', '7859', '8039', '8042', '8113', '8344', '8524', '8540', '8557', '8681', '8685', '8740', '9315', '9331', '9487', '9768', '173', '459', '513', '713', '754', '792', '813', '828', '831', '998', '1003', '1044', '1120', '1141', '1188', '1240', '1269', '1297', '1501', '1775', '1854', '1917', '1942', '2070', '2211', '2282', '2408', '2427', '2439', '2440', '2485', '2681', '2692', '2850', '2925', '3016', '3024', '3047', '3115', '3159', '3177', '3192', '3202', '3388', '3633', '3776', '3810', '3938', '4008', '4016', '4085', '4088', '4159', '4225', '4288', '4471', '4472', '4615', '4643', '4693', '4821', '4900', '4950', '5085', '5168', '5242', '5311', '5430', '5650', '5784', '5806', '5808', '5898', '6265', '6460', '6475', '6576', '6600', '6735', '6879', '6881', '6917', '7012', '7036', '7104', '7445', '7463', '7562', '7643', '7659', '7695', '8533', '8734', '9281', '9688', '63', '170', '359', '438', '461', '555', '576', '657', '896', '1382', '1604', '3138', '3360', '3575', '4822', '5027', '5191', '5852', '6647', '8655', '8707', '9028', '9706', '255', '365', '436', '633', '826', '1167', '1352', '1556', '1626', '1873', '1951', '2268', '2334', '2738', '2824', '3006', '3505', '3520', '3609', '3831', '3974', '4110', '4629', '4861', '4988', '5264', '5471', '5871', '6009', '6213', '6287', '6906', '7651', '8022', '8241', '8479', '8646', '8903', '9059', '9511', '181', '468', '492', '520', '557', '634', '753', '909', '924', '1416', '1628', '1652', '1692', '1717', '1809', '2231', '2759', '2979', '3249', '3819', '3997', '4753', '4811', '4859', '4910', '4932', '5239', '5254', '5367', '5480', '5846', '5883', '5949', '6207', '6493', '6721', '6728', '6852', '6901', '6938', '7066', '7192', '7267', '7423', '7664', '7783', '7884', '8504', '9683', '9946', '842', '1436', '1925', '3188', '4047', '4242', '4704', '4894', '5941', '6779', '6997', '8622', '8724', '8891', '235', '274', '385', '449', '487', '598', '863', '930', '1047', '1156', '1198', '1247', '1285', '1293', '1551', '1589', '1630', '1830', '1956', '2401', '2664', '2724', '2732', '2981', '3011', '3014', '3098', '3317', '3600', '3675', '3744', '3849', '4798', '5177', '5334', '5443', '5960', '7013', '7100', '7126', '7327', '7390', '7637', '7685', '7770', '8035', '8086', '8095', '8426', '8512', '8741', '8778', '9419', '9570', '9704', '9990', '205', '381', '465', '532', '575', '932', '1113', '1214', '1348', '1438', '1483', '1503', '1729', '1744', '1947', '1978', '2017', '2346', '2431', '2514', '2589', '2788', '2906', '2935', '3385', '3420', '3940', '4029', '4355', '4453', '4475', '4564', '4838', '4981', '5089', '5227', '5250', '5297', '5299', '5351', '5454', '5633', '5925', '6088', '6323', '7015', '7317', '7509', '7634', '7835', '8172', '8237', '8434', '8560', '9105', '9149', '9200', '9305', '9334', '9443', '9461', '9466', '276', '564', '830', '1056', '1617', '1721', '1777', '1781', '1814', '1863', '1882', '2072', '2661', '2684', '3435', '3597', '3795', '4491', '4498', '4743', '4881', '4939', '5017', '5323', '5662', '5854', '5937', '6042', '6455', '7020', '7038', '7384', '7389', '7405', '7592', '7615', '7710', '7739', '7950', '8292', '8812', '8867', '9297', '9313', '9349', '9375', '9465', '9697', '1024', '1446', '1638', '1726', '2748', '2793', '3231', '3626', '3838', '4217', '4371', '5881', '5983', '6045', '6121', '6586', '6651', '6658', '7270', '7441', '7588', '7849', '9134', '9206', '9350', '388', '746', '1433', '1458', '1524', '2285', '3212', '3488', '4573', '4749', '5121', '5905', '6597', '6811', '7099', '7313', '7828', '7938', '8023', '8431', '8564', '8571', '8676', '9147', '9405', '9654', '247', '341', '521', '812', '1067', '1435', '1653', '1894', '2020', '2133', '2250', '2341', '2418', '2631', '2799', '2996', '3045', '3484', '4019', '4255', '4286', '4335', '4797', '4961', '5060', '5154', '5255', '5540', '5542', '5832', '5953', '6539', '6552', '6555', '6752', '6977', '7132', '7397', '7401', '7618', '7939', '8539', '9171', '9201', '9852', '9950', '130', '283', '378', '788', '1236', '1242', '1320', '1350', '1377', '1517', '1543', '1991', '2141', '2244', '2366', '2660', '3277', '3531', '3624', '3735', '3885', '3984', '4363', '4372', '4388', '4428', '4516', '5033', '5203', '5312', '5536', '5963', '6391', '6470', '6516', '6575', '6825', '6900', '7028', '7330', '7731', '8402', '8599', '8667', '8726', '8782', '8913', '8964', '8968', '9303', '9681', '9742', '185', '253', '408', '559', '569', '715', '884', '899', '987', '1153', '1221', '1280', '1341', '1528', '1532', '1984', '2074', '2086', '2685', '3334', '3477', '3820', '4310', '4387', '4710', '4734', '4937', '5079', '5409', '5422', '5702', '6134', '6141', '6236', '6333', '6564', '6660', '6806', '6871', '7199', '7541', '7547', '8459', '8820', '8931', '9098', '9260', '9359', '9372', '475', '630', '1921', '2156', '2742', '3100', '3656', '3742', '8506', '9644', '241', '560', '611', '776', '911', '3353', '3592', '3792', '4081', '4187', '4319', '6181', '6284', '6741', '6838', '7051', '7220', '8286', '8892', '154', '336', '581', '765', '1205', '1349', '1374', '1419', '1571', '1620', '1686', '1945', '1995', '2236', '2293', '2345', '2445', '2461', '2967', '2976', '2993', '3070', '3530', '4157', '4662', '4754', '4809', '4876', '5775', '5876', '6099', '6430', '7109', '7170', '7296', '7556', '8397', '8495', '8691', '9274', '9545', '9912', '356', '457', '589', '844', '959', '1262', '1338', '2056', '2115', '2278', '2828', '2873', '2964', '3064', '3504', '3748', '3793', '4069', '4089', '4463', '4657', '4706', '4787', '5059', '5500', '5777', '5944', '5997', '6024', '6445', '6580', '6713', '6742', '7312', '7319', '7355', '7483', '7501', '7601', '8135', '8629', '9239', '9272', '9524', '370', '429', '663', '816', '824', '1075', '1225', '1266', '1351', '1588', '1767', '1878', '2182', '2225', '2313', '2627', '2708', '2780', '3193', '3211', '3246', '3280', '3460', '3844', '3956', '4030', '4099', '4276', '4327', '4577', '4584', '4782', '4831', '4851', '5068', '5251', '5381', '5482', '5579', '5631', '6025', '6532', '6538', '6590', '6765', '7105', '7301', '7887', '7983', '8070', '8197', '8256', '8441', '8566', '9006', '9247', '9474', '9647', '243', '379', '450', '509', '595', '613', '647', '865', '1541', '1569', '2048', '2321', '2745', '2782', '2825', '2917', '3108', '3425', '4378', '4508', '4808', '5058', '5919', '6138', '6188', '6446', '6659', '6764', '6814', '6875', '6907', '7072', '7632', '7720', '8456', '8514', '9299', '9561', '671', '740', '1468', '1899', '2288', '2326', '3532', '3574', '3868', '3911', '3934', '4465', '4626', '4907', '5165', '5738', '7368', '8486', '8817', '9142', '9203', '9440', '9763', '9798', '214', '437', '1415', '1502', '2610', '2938', '2947', '3270', '3455', '3499', '4616', '4651', '4792', '4889', '5731', '6393', '6477', '6961', '7574', '8419', '8477', '8579', '8656', '8693', '8775', '9023', '9037', '9612', '9632', '177', '299', '452', '705', '1019', '1101', '1336', '2444', '2857', '3446', '3627', '3682', '3902', '4430', '4502', '4603', '4713', '5126', '5302', '5400', '5948', '6203', '6360', '6479', '7211', '7684', '7873', '8450', '8487', '9164', '9365', '9492', '9807', '9999', '1022', '1467', '1622', '2157', '2608', '2995', '3529', '3754', '4068', '4332', '5075', '6514', '6821', '7920', '9131', '9634', '579', '602', '801', '838', '1901', '2123', '2763', '2952', '3081', '3103', '3691', '3698', '3719', '3751', '4062', '4609', '5332', '6978', '7373', '7518', '7972', '8354', '8357', '8858', '627', '677', '743', '1190', '1381', '1491', '1812', '1881', '2224', '2260', '2379', '3282', '3283', '3299', '4103', '5265', '5837', '7794', '7860', '8982', '9703', '498', '1451', '1452', '1481', '1562', '1908', '2190', '2368', '2506', '2642', '2654', '2712', '2941', '3042', '3093', '3284', '3461', '3613', '3839', '4230', '4444', '4790', '4956', '5061', '5078', '5176', '5193', '5225', '5241', '5316', '5516', '5543', '6473', '6707', '6786', '6862', '7235', '7538', '7566', '7630', '8005', '8006', '8191', '8206', '8625', '8792', '9116', '9236', '9556', '9560', '9664', '9665', '9748', '9904', '368', '512', '1445', '1889', '2003', '2138', '2356', '2430', '3019', '3119', '3162', '3717', '4485', '5572', '6173', '6291', '6562', '7010', '7143', '7438', '7616', '8128', '8390', '8443', '9005', '9011', '9205', '9565', '169', '343', '617', '794', '819', '997', '1029', '1092', '1398', '1817', '1934', '1953', '2119', '2267', '2272', '2362', '2918', '2937', '3289', '3321', '3347', '3398', '3519', '3561', '3641', '3664', '3815', '4282', '4361', '4522', '4885', '6212', '6235', '6258', '6261', '6312', '7165', '7339', '7821', '7892', '8302', '8969', '9097', '9318', '9675', '9906', '1552', '1625', '2232', '3943', '6512', '7673', '9596', '1091', '1199', '1267', '1531', '2170', '2331', '2614', '2792', '3046', '3050', '3250', '3319', '3778', '3920', '4924', '5197', '5639', '7826', '7840', '8527', '536', '612', '655', '684', '785', '873', '940', '1051', '1148', '1473', '1540', '1823', '1833', '2299', '2301', '2375', '3379', '3448', '3534', '3826', '3877', '5342', '5439', '5533', '5839', '6344', '6574', '7798', '8108', '8503', '8573', '8705', '8914', '9049', '9608', '1365', '1572', '1886', '1904', '2117', '2410', '2557', '2876', '2893', '3095', '3336', '3355', '3870', '4170', '4373', '5322', '6069', '6775', '8242', '8258', '9084', '9827', '9994', '825', '912', '923', '1095', '1610', '1888', '1916', '1975', '2016', '2353', '3240', '4570', '5228', '5324', '6086', '6858', '7382', '7690', '7698', '7994', '8632', '9285', '781', '1418', '1441', '1641', '1761', '1795', '1838', '2261', '2544', '2571', '3172', '3191', '3384', '3501', '3919', '4140', '4418', '4633', '4699', '5448', '5529', '6038', '6639', '6678', '6817', '7212', '7257', '7351', '7567', '7704', '8028', '8192', '8689', '8716', '9549', '737', '2572', '2700', '4530', '4759', '4826', '5100', '5398', '5945', '5998', '6031', '6490', '6998', '7446', '8508', '8960', '9042', '216', '716', '2169', '2286', '2452', '2690', '3106', '3949', '4567', '4980', '5802', '5979', '6083', '6127', '6476', '6685', '6849', '8396', '9379', '414', '610', '857', '1417', '1499', '1698', '1706', '1746', '1949', '2057', '2643', '2735', '2920', '3226', '3341', '3649', '4182', '4209', '4382', '4569', '4989', '5338', '6003', '6184', '6480', '6725', '7259', '7900', '8808', '8886', '8970', '9258', '9300', '9424', '2004', '2254', '2304', '2361', '2482', '2569', '2784', '2903', '3797', '3929', '4055', '4789', '5355', '5424', '6137', '6589', '6912', '7906', '8208', '8797', '8827', '9211', '9267', '9575', '2041', '2834', '3145', '5309', '5741', '6179', '6376', '8611', '9516', '9689', '678', '748', '2130', '406', '1429', '1927', '2484', '3032', '3806', '5373', '5680', '6593', '7121', '1578', '2270', '2576', '6438', '8066', '9455', '9488', '814', '945', '963', '1454', '2471', '2475', '3090', '3301', '3511', '3900', '4076', '4348', '5117', '5908', '6200', '6293', '6498', '6566', '6592', '7146', '7439', '7730', '7936', '8555', '8884', '9471', '431', '1195', '1703', '2064', '2349', '2592', '3468', '4568', '4678', '4709', '5120', '5310', '5906', '6149', '6667', '7264', '7452', '7790', '7888', '8645', '9126', '9166', '9909', '9915', '448', '471', '723', '855', '1152', '1157', '1484', '1719', '1968', '2043', '2049', '2150', '2455', '2612', '2786', '2802', '3207', '3272', '3327', '3618', '3622', '3662', '3724', '3732', '3966', '4168', '4224', '4235', '4975', '5236', '5682', '6044', '6163', '6166', '6500', '6669', '6807', '6896', '7335', '7338', '7443', '7895', '8604', '8750', '8802', '9188', '9636', '9856', '446', '1166', '1463', '2111', '3020', '3107', '3803', '4034', '4259', '4331', '4553', '4765', '4996', '5978', '6974', '7451', '7792', '8901', '9694', '9728', '9872', '565', '974', '1131', '4722', '7410', '7513', '8249', '637', '668', '1055', '1123', '2416', '3491', '4156', '4680', '5313', '5707', '7127', '7360', '639', '758', '892', '955', '1028', '1284', '1457', '1566', '1943', '1958', '2153', '2155', '2508', '2531', '2567', '2593', '2633', '2839', '2908', '3490', '3629', '3991', '4460', '4836', '5088', '5150', '5932', '7531', '7757', '8196', '8398', '8510', '8525', '8569', '8640', '8905', '9016', '9117', '9275', '9626', '9682', '9952', '390', '417', '731', '858', '982', '1337', '1384', '1682', '1753', '1793', '2180', '2538', '3092', '3122', '3721', '3948', '3989', '4116', '4304', '4328', '4807', '4827', '5363', '5425', '5470', '6039', '6249', '7163', '7611', '7644', '7797', '7954', '8554', '8694', '8770', '9046', '9322', '9714', '9747', '9823', '477', '970', '1851', '2473', '2555', '4144', '4540', '4688', '4935', '7195', '7426', '8496', '8594', '206', '628', '1202', '1511', '2034', '2103', '2462', '2497', '2530', '2581', '2663', '3382', '3413', '4043', '4092', '4142', '4330', '4459', '4664', '5007', '5691', '6115', '6153', '6383', '7037', '7303', '7326', '7349', '7375', '7444', '7657', '7678', '7949', '8394', '8697', '8874', '9559', '9754', '9903', '196', '531', '1004', '1073', '1455', '1632', '1633', '1856', '1998', '2171', '2205', '2316', '2638', '2822', '2988', '3228', '3234', '3291', '3487', '3766', '3994', '4193', '4220', '4439', '4452', '4732', '5268', '5573', '5893', '6156', '7268', '7470', '7505', '7728', '7975', '8171', '8238', '8439', '9058', '9193', '9196', '9251', '9505', '9810', '9883', '1743', '1861', '4495', '4799', '5491', '5666', '7442', '7477', '7681', '7791', '8265', '9183', '9968', '1599', '1661', '2694', '2841', '3493', '4575', '5553', '6082', '6354', '7912', '9685', '506', '515', '991', '1273', '1368', '1957', '2161', '2196', '2561', '3879', '4976', '5676', '6632', '6705', '7988', '9421', '9725', '710', '1189', '1312', '2143', '3241', '5048', '5918', '6885', '7771', '7778', '8683', '8773', '9363', '9452', '9472', '9515', '9776', '2068', '3195', '3216', '3358', '3496', '4025', '4184', '4403', '4786', '5289', '5585', '6654', '6934', '7517', '7591', '7703', '8000', '8327', '8561', '9086', '284', '854', '1064', '1125', '1147', '1252', '1479', '1547', '1755', '2848', '3161', '3281', '3344', '4214', '5271', '5306', '5376', '5767', '6550', '7186', '7365', '7814', '8132', '8199', '8534', '8743', '642', '762', '965', '1107', '1215', '1497', '1666', '2146', '2246', '2693', '3433', '3590', '3862', '3908', '4000', '4021', '4245', '4426', '4594', '4804', '4841', '4965', '5098', '5458', '5570', '5708', '5981', '6250', '6488', '6622', '6629', '7153', '7166', '7200', '7454', '7542', '7711', '7984', '8212', '8678', '8833', '8966', '9249', '9376', '9500', '1665', '2942', '3238', '3325', '3891', '4404', '4992', '7487', '8155', '8717', '8834', '8863', '766', '1326', '2384', '3421', '5194', '5455', '5637', '6242', '6903', '8515', '9234', '9574', '2227', '2980', '3262', '3330', '3585', '6918', '7743', '7793', '8767', '900', '941', '1016', '1342', '2095', '2328', '2584', '2717', '2733', '2924', '3314', '3785', '4274', '4718', '4870', '5205', '5402', '5442', '5645', '5955', '6234', '6578', '6609', '6769', '7431', '7631', '7742', '7785', '8051', '8813', '9111', '9544', '470', '478', '1422', '1647', '1756', '2844', '2882', '3255', '3563', '3739', '3967', '4084', '4583', '5226', '5615', '5643', '5746', '6061', '6065', '6969', '8204', '8310', '8348', '8842', '9783', '670', '999', '1321', '1762', '1864', '3409', '3436', '5247', '5317', '6466', '6649', '7380', '7580', '7960', '7987', '8530', '8951', '9804', '9993', '496', '1228', '1642', '1657', '2330', '2335', '2698', '3012', '3170', '3322', '3528', '3706', '3899', '3964', '3981', '4618', '5215', '5587', '5654', '6154', '7064', '8546', '8894', '9273', '326', '1259', '1420', '1973', '2019', '2210', '2245', '2705', '3137', '3157', '5050', '5142', '5240', '5768', '6185', '6556', '6894', '6958', '7205', '7329', '7498', '8447', '8624', '8882', '8991', '9002', '9007', '9430', '9522', '745', '1072', '1121', '1466', '1603', '2177', '2178', '2716', '2859', '3027', '3305', '3454', '3845', '4052', '4155', '4395', '4579', '4953', '5090', '5284', '6102', '6625', '7472', '7867', '8413', '8559', '9422', '9667', '529', '961', '1222', '1848', '3199', '3933', '5364', '6277', '6340', '6666', '6726', '6766', '7758', '920', '1017', '1186', '1414', '2680', '3125', '3175', '3517', '3579', '4377', '4517', '6507', '7017', '7449', '7837', '8078', '8335', '8787', '9256', '9402', '1033', '1053', '1260', '1581', '1841', '2101', '2985', '3727', '5015', '5640', '5688', '6436', '7417', '8198', '664', '734', '951', '1084', '1316', '2053', '2336', '2385', '3040', '4311', '4385', '4461', '4548', '4872', '5245', '5726', '6098', '6131', '6380', '6424', '6915', '9517', '9772', '9860', '282', '1448', '1478', '1778', '2411', '2450', '2624', '3026', '3612', '3621', '3897', '4037', '5223', '5849', '8763', '8799', '9069', '9523', '9985', '866', '1025', '1613', '2040', '2566', '4408', '4536', '5112', '6220', '6708', '6973', '7244', '9128', '9352', '850', '1693', '1694', '2264', '3078', '4791', '4911', '5591', '6170', '6281', '6596', '8261', '8825', '8847', '9329', '811', '2061', '2523', '2842', '3206', '3356', '5214', '7890', '8673', '9410', '944', '1730', '1876', '2271', '2420', '2902', '3266', '3485', '4014', '4216', '4620', '5167', '6398', '6535', '6655', '7320', '7396', '7647', '8111', '9288', '9449', '9705', '9833', '497', '1201', '1663', '1880', '2202', '2447', '2905', '3261', '4683', '4738', '4878', '4927', '5024', '5386', '6316', '6388', '7074', '7897', '8007', '8253', '8704', '8850', '9262', '9377', '9965', '798', '966', '1518', '2989', '3213', '3219', '4108', '4869', '5029', '5606', '5804', '5917', '6876', '8567', '8621', '9065', '9191', '9875', '505', '574', '977', '1080', '1324', '1339', '1345', '1884', '2012', '2163', '2619', '2702', '2926', '3018', '3059', '3438', '3722', '4271', '4720', '4915', '5523', '5856', '5886', '6740', '6787', '7586', '7802', '9304', '9361', '9373', '9866', '829', '1098', '1196', '1255', '1315', '1554', '1676', '1715', '2230', '2583', '2741', '2746', '2843', '3102', '3209', '3993', '4013', '4228', '4296', '4647', '4852', '4922', '5710', '5873', '6408', '7156', '7774', '8080', '8355', '9643', '9669', '2001', '2229', '2649', '3264', '3864', '6672', '7027', '7265', '7696', '8209', '8433', '8472', '9047', '1444', '1996', '2552', '2956', '3294', '3568', '4585', '5128', '5257', '5838', '6118', '7621', '7748', '8180', '8214', '9539', '631', '777', '1519', '2239', '2320', '2364', '3021', '3167', '4703', '4848', '4898', '4929', '5160', '6059', '6246', '6612', '6699', '7399', '9661', '9891', '815', '1076', '1149', '1806', '1974', '2132', '2453', '2791', '2885', '3545', '4252', '4454', '4511', '4974', '5453', '5892', '6509', '7495', '8575', '9282', '9321', '9406', '9698', '1329', '2303', '2517', '2767', '3111', '3165', '4135', '5133', '5394', '6799', '9018', '9075', '9173', '9442', '9498', '2912', '3296', '4290', '5391', '867', '2855', '2870', '3332', '3881', '3896', '4226', '5143', '6336', '6891', '7281', '7606', '8105', '8755', '1235', '1394', '2098', '2343', '3171', '3816', '3907', '3953', '4234', '4308', '4322', '4708', '5973', '6157', '6308', '6309', '6494', '6835', '7471', '8014', '9137', '9792', '9983', '687', '1723', '2616', '2891', '3576', '4167', '4336', '6048', '6370', '6949', '7250', '7899', '8321', '9063', '9212', '9337', '1850', '3237', '3292', '3552', '4406', '4599', '4638', '4681', '4945', '6130', '6218', '6797', '6800', '7548', '8224', '8768', '9233', '9627', '9630', '2437', '2940', '3002', '3542', '5992', '6435', '7391', '7502', '8835', '587', '2751', '5092', '5403', '6077', '6202', '7430', '7558', '7832', '9197', '9265', '881', '1673', '1690', '1872', '2811', '2864', '3005', '3225', '3657', '4026', '4748', '6650', '6663', '7617', '8658', '9243', '9527', '9829', '823', '1108', '1387', '2881', '3765', '3823', '4574', '4640', '4770', '4919', '5362', '5621', '5974', '7766', '8948', '9766', '878', '2776', '5184', '5269', '5291', '7374', '7741', '7759', '8715', '3432', '4024', '4867', '5028', '5515', '7493', '9246', '1918', '1920', '2389', '3013', '3771', '4339', '5340', '5472', '5762', '5911', '6750', '7610', '8245', '9115', '9229', '9294', '618', '861', '1136', '4102', '4326', '5962', '6392', '6674', '7645', '8083', '8260', '8498', '8742', '8828', '8868', '8875', '9887', '817', '1037', '1954', '4007', '6221', '8090', '8502', '8859', '4305', '4562', '4700', '5437', '6461', '6610', '7564', '8851', '9508', '672', '1079', '1525', '2253', '2911', '2969', '3146', '3596', '3631', '3932', '4610', '4968', '5119', '5344', '5368', '6428', '6758', '6941', '7187', '7553', '7737', '7894', '8334', '8668', '9595', '952', '2658', '2889', '3252', '4049', '4150', '4725', '4940', '5388', '5834', '6144', '6348', '7094', '7714', '8106', '8438', '9456', '9493', '9951', '9984', '1379', '3140', '6442', '6458', '9168', '2391', '2425', '3917', '4045', '4094', '4883', '5129', '5379', '5462', '7077', '7571', '8223', '8460', '9724', '2318', '3857', '5636', '5716', '6159', '8048', '8784', '9263', '9672', '9922', '1117', '1331', '1396', '1512', '2518', '2896', '3275', '5360', '8181', '9207', '9346', '9416', '9771', '971', '2067', '2269', '3738', '6559', '7868', '8084', '8275', '9001', '411', '1906', '2287', '2562', '2837', '2904', '3482', '3541', '4149', '4237', '4958', '5224', '5452', '6081', '6432', '6469', '8146', '8427', '8577', '8606', '8837', '1168', '3412', '3848', '4977', '8910', '1902', '8861', '9494', '3214', '2374', '2388', '2502', '3017', '3096', '3104', '3498', '4053', '4060', '4087', '4285', '5399', '6189', '7734', '8326', '8739', '9480', '588', '1606', '2166', '2423', '3009', '4015', '5292', '797', '2463', '3256', '3335', '3339', '3598', '4297', '5395', '5822', '6266', '6565', '7107', '7485', '7787', '7958', '7959', '8293', '9628', '9775', '3377', '4125', '2168', '2312', '2323', '2378', '2465', '3692', '3729', '4423', '4474', '5699', '6518', '6679', '6851', '6968', '7207', '8853', '1766', '2069', '2403', '2671', '3000', '3139', '3786', '6784', '6923', '6964', '8341', '8404', '8430', '8473', '8836', '8865', '9553', '9566', '9668', '1516', '1797', '2467', '6146', '6245', '6808', '3065', '3524', '3667', '3873', '4432', '4483', '5074', '5390', '5612', '6248', '7125', '7376', '7666', '7935', '8138', '8201', '8228', '8366', '8414', '9223', '9224', '9554', '9629', '6374', '7341', '1986', '2443', '2696', '2932', '4022', '4554', '5221', '5603', '5847', '7152', '7554', '7862', '8179', '8296', '9786', '1725', '2927', '3928', '4542', '5337', '5851', '6399', '7016', '7182', '7998', '8627', '9957', '1176', '1301', '1602', '1710', '2325', '2599', '2747', '2883', '3038', '3043', '3979', '4172', '4312', '4416', '4538', '4685', '4942', '5293', '5501', '5635', '5972', '5994', '6375', '6955', '7081', '7433', '8038', '8358', '9525', '1180', '1787', '2010', '2352', '4023', '4232', '5287', '6119', '6152', '6174', '6676', '6865', '6971', '8664', '8765', '685', '2672', '4236', '4307', '9989', '1490', '3808', '4993', '5220', '6342', '8149', '8295', '1173', '3354', '3515', '4469', '4561', '5173', '8119', '8428', '8947', '9383', '9729', '9801', '1219', '2460', '3205', '4109', '4436', '5811', '5859', '6171', '6567', '7366', '7448', '1658', '6209', '6522', '6897', '1034', '2090', '2277', '3586', '3836', '4903', '5326', '5389', '5724', '6630', '6828', '7110', '7299', '7781', '8338', '8923', '9621', '9778', '1709', '5922', '7717', '8976', '9199', '539', '2081', '2307', '3069', '3465', '3856', '5903', '6192', '6290', '6318', '6448', '6793', '7512', '8330', '9464', '9770', '1289', '3689', '3843', '4028', '4543', '4740', '5554', '5589', '5761', '6409', '6734', '6979', '7813', '8107', '8794', '9749', '1021', '2185', '2613', '2749', '3728', '3758', '4338', '4938', '8012', '8020', '8121', '9061', '906', '1035', '1118', '1993', '2468', '2655', '2762', '3408', '3802', '5001', '5609', '5771', '6076', '6372', '6417', '6617', '6794', '7089', '7097', '7256', '7348', '7479', '7603', '7626', '7677', '7871', '8584', '8935', '9081', '889', '2173', '2221', '2635', '5624', '6452', '1334', '1970', '2833', '3399', '4532', '4865', '6501', '7057', '8044', '8058', '8674', '9184', '9220', '9648', '9785', '1217', '2688', '4931', '5742', '8500', '8746', '9567', '9816', '880', '1130', '3431', '4300', '4397', '4419', '6222', '9434', '3338', '3670', '4240', '4266', '5800', '6260', '8221', '9526', '9934', '526', '1534', '3661', '3695', '4892', '4914', '5093', '5339', '5343', '5853', '6036', '6294', '7331', '7379', '7934', '8165', '8541', '8551', '8737', '9082', '9470', '9811', '1144', '2127', '3639', '3679', '3763', '5420', '5548', '8346', '8518', '2195', '2761', '3060', '3469', '3566', '4445', '5274', '5860', '7237', '8843', '9143', '9741', '1279', '2922', '3755', '3968', '4519', '5053', '5212', '6694', '6751', '7063', '7068', '7978', '8094', '8752', '8822', '8918', '9178', '2596', '2968', '4165', '5353', '5464', '6834', '8116', '8215', '8222', '9855', '1093', '1362', '1980', '2121', '2212', '4067', '4206', '4429', '5123', '5686', '6017', '6199', '7096', '7416', '7593', '8721', '8958', '1754', '1966', '2008', '2217', '2369', '2797', '4529', '4820', '5036', '5107', '5423', '5735', '7221', '7772', '8711', '9010', '1816', '1829', '2091', '2216', '3149', '3782', '4954', '5062', '6984', '7420', '9715', '596', '929', '1747', '2393', '5477', '6062', '6317', '3931', '4701', '4719', '4825', '6944', '1545', '2421', '3053', '4742', '7106', '7806', '9713', '542', '702', '2545', '3386', '4191', '4482', '4757', '5374', '6018', '6467', '7039', '7775', '8410', '8946', '752', '1211', '3777', '4750', '5081', '7177', '8313', '3449', '5307', '6988', '9893', '6652', '8612', '8666', '9479', '3304', '3497', '3509', '3559', '3961', '4497', '5658', '6072', '6288', '6601', '7886', '8703', '9497', '9593', '9955', '1010', '1224', '1820', '2679', '3136', '3951', '5664', '7489', '8312', '9026', '9415', '9789', '939', '2851', '3173', '3458', '4204', '4777', '5984', '6224', '8463', '8679', '8829', '8849', '651', '841', '2006', '6528', '8600', '1529', '2193', '2512', '3821', '4302', '6238', '8809', '9093', '7965', '2204', '3389', '4096', '4998', '5272', '6489', '7090', '7572', '7918', '827', '1276', '2422', '2533', '3254', '3481', '3494', '4265', '4711', '5685', '6387', '6431', '6683', '7030', '7334', '8175', '8511', '8890', '9867', '2223', '3235', '4231', '8492', '8804', '5105', '5555', '6519', '6745', '6992', '8306', '903', '1310', '1770', '3921', '4189', '4346', '5610', '5740', '7561', '7811', '8211', '885', '1500', '1601', '1836', '3315', '5933', '1684', '2054', '2135', '4133', '4660', '5336', '7333', '8659', '2823', '3169', '4635', '5416', '5502', '5996', '6347', '6496', '7490', '2015', '3001', '5561', '5739', '7415', '9009', '9038', '9973', '3604', '6251', '1751', '3083', '3155', '3373', '3807', '5594', '5663', '7231', '8257', '9160', '1264', '2376', '2668', '3218', '5642', '6429', '7071', '7308', '7557', '8074', '9004', '4729', '5282', '5498', '5602', '6836', '2099', '3867', '3914', '4410', '5156', '5273', '5441', '6271', '6335', '7528', '8123', '8170', '8207', '821', '3665', '5357', '2727', '3142', '5959', '601', '1832', '2209', '2546', '3037', '3580', '3616', '3817', '4075', '4239', '4506', '4676', '5575', '5935', '5965', '6414', '6549', '7363', '7393', '7964', '8166', '8616', '9146', '2220', '4871', '8140', '8677', '9154', '9921', '1874', '2149', '3132', '3447', '5483', '6357', '6624', '7059', '7575', '8543', '9448', '2037', '3434', '3540', '4862', '5785', '8002', '8062', '8167', '8764', '9568', '832', '2125', '3672', '5065', '5475', '7810', '9348', '9954', '1523', '1595', '1615', '2324', '2491', '3079', '4337', '5147', '7381', '7776', '8104', '9639', '2778', '2975', '3643', '4064', '4455', '4492', '5294', '5809', '728', '2526', '5000', '6804', '8735', '9949', '2348', '4353', '4764', '5421', '6263', '6720', '7550', '8075', '8124', '9271', '9967', '2878', '3453', '6047', '8009', '9022', '9395', '9938', '1605', '2817', '3550', '3753', '3787', '3947', '4104', '4340', '4611', '6139', '6482', '7725', '2923', '3245', '5569', '7342', '7619', '7915', '8950', '2609', '4526', '7102', '7134', '7569', '7945', '1254', '1400', '2237', '4477', '5183', '5186', '6837', '8620', '2022', '2756', '5990', '8873', '8954', '9073', '9484', '2772', '4329', '4946', '8483', '8965', '2504', '2953', '3492', '4581', '4905', '5026', '5704', '5719', '6095', '6150', '7026', '7085', '7361', '9110', '9124', '9341', '9387', '4208', '6732', '7497', '8531', '8644', '8922', '2528', '3473', '5331', '6677', '6686', '7536', '7691', '8876', '2189', '6067', '9087', '9427', '9542', '9956', '3290', '5405', '5513', '7139', '2520', '3068', '4490', '4557', '4608', '4930', '5086', '5693', '5695', '5732', '6492', '7524', '8153', '8231', '9104', '2215', '2398', '3650', '3835', '5549', '6008', '6030', '6820', '6831', '7460', '7943', '2258', '2701', '2777', '4050', '4434', '7641', '9264', '9940', '1087', '3647', '5369', '5607', '7058', '9756', '978', '1799', '2580', '5151', '5180', '6328', '9645', '9925', '4086', '6904', '3506', '5858', '7629', '8239', '9066', '2541', '3239', '3789', '4262', '5230', '7957', '8291', '8592', '2414', '3467', '3924', '4425', '5967', '6105', '6252', '6802', '7570', '8608', '2140', '3587', '5628', '3367', '4177', '5141', '5968', '6350', '6366', '6404', '6584', '6604', '7492', '7857', '8300', '9157', '5618', '5999', '6947', '7395', '2018', '5564', '7457', '7751', '8523', '8680', '8888', '9662', '1696', '1758', '2044', '2987', '3918', '5451', '6763', '7480', '9692', '9926', '2722', '3965', '5412', '6106', '6909', '7602', '1471', '1989', '2029', '2207', '2347', '3452', '4449', '5131', '5924', '6510', '7076', '7608', '7863', '3584', '6577', '7371', '7944', '8801', '9547', '1760', '2529', '2673', '2849', '4132', '4200', '4431', '5926', '6041', '6378', '6656', '6689', '9186', '9327', '9345', '9616', '1768', '2886', '3526', '8641', '9151', '9152', '937', '1865', '4438', '5279', '5815', '6951', '8831', '757', '1999', '2118', '3251', '3457', '4048', '4590', '5763', '5824', '6292', '8911', '9740', '1994', '2459', '3683', '4487', '7723', '9127', '9850', '9969', '791', '5384', '5527', '8807', '9035', '2559', '4936', '7622', '9453', '1437', '5748', '9750', '2959', '3114', '4082', '7316', '7378', '1731', '2031', '3223', '3718', '8602', '1804', '2187', '5966', '6023', '6954', '7300', '7462', '7614', '1380', '2292', '3406', '3768', '3955', '3995', '4101', '5046', '5219', '5611', '6298', '7188', '7585', '7830', '7913', '8139', '8702', '8899', '9734', '927', '3769', '4044', '4417', '4669', '5383', '6066', '6108', '6755', '6805', '9591', '6638', '7305', '8542', '9693', '2499', '3415', '4114', '6307', '6753', '7465', '8682', '8772', '9877', '1246', '2087', '3183', '6544', '6551', '6640', '6760', '7209', '8343', '8509', '4587', '4908', '2167', '4077', '4856', '7061', '9501', '9719', '2405', '2862', '3057', '3326', '3801', '4667', '5095', '6569', '7122', '8669', '8805', '8917', '9155', '9637', '9731', '1162', '1559', '1757', '1846', '2243', '2794', '3196', '3419', '3655', '4083', '5780', '6186', '6846', '7459', '7706', '8010', '8202', '8860', '9257', '9445', '2783', '2846', '3556', '3562', '3595', '6217', '6848', '6880', '7160', '7223', '1724', '2534', '3630', '5042', '5776', '6412', '6542', '7784', '1635', '1772', '2588', '3642', '3998', '4916', '5476', '5803', '5830', '5938', '7872', '9161', '9230', '9286', '2800', '4949', '6877', '7612', '9514', '4061', '4721', '5565', '5879', '6369', '6757', '6773', '7227', '7232', '7583', '7687', '8126', '9335', '9344', '6214', '7047', '2601', '3884', '4175', '7185', '8079', '8614', '9620', '9695', '1677', '5286', '5518', '5927', '5988', '1651', '2377', '7359', '9917', '4350', '6627', '8688', '3410', '4164', '8386', '8387', '8499', '9024', '9795', '2628', '2818', '3990', '5018', '7756', '8382', '3910', '5037', '7831', '8821', '5509', '3963', '6791', '7006', '9888', '2731', '7455', '8675', '4689', '6310', '3426', '4744', '6300', '6747', '8880', '9309', '2071', '2222', '2636', '5481', '5914', '6093', '4261', '2827', '5404', '2338', '4684', '6368', '6792', '7722', '8187', '8272', '9056', '1139', '1447', '2319', '4258', '4324', '4521', '4531', '4918', '5106', '6326', '6439', '6504', '8089', '1702', '4402', '6857', '1155', '2402', '3184', '2456', '3023', '4354', '7228', '9974', '8200', '9290', '1739', '3307', '4858', '9213', '2466', '4539', '6727', '9624', '9716', '5163', '5366', '7670', '6397', '8057', '9802', '2011', '5525', '8093', '1597', '2454', '5380', '5725', '7119', '7689', '7864', '3135', '5819', '9190', '5623', '6856', '8247', '1972', '4223', '2045', '2259', '3190', '6795', '7155', '8990', '9459', '7962', '8526', '984', '7796', '9959', '1910', '8476', '8018', '2726', '3232', '4313', '7461', '7573', '8178', '8289', '8376', '2565', '3713', '4773', '3811', '6762', '2835', '3242', '5003', '5263', '8553', '8793', '5698', '6379', '6523', '6530', '9476', '1941', '4766', '7069', '8912', '3101', '3381', '3475', '5505', '2500', '6767', '1932', '2179', '2865', '3369', '5840', '6972', '3898', '7284', '7712', '8562', '8878', '9187', '1840', '2537', '2779', '3658', '4818', '4823', '5877', '6049', '7117', '8248', '1718', '3606', '5281', '8824', '3036', '5869', '6168', '8288', '8725', '9351', '1741', '4074', '7851', '3352', '4682', '5600', '5774', '7514', '8125', '8653', '9054', '9782', '1607', '2590', '2723', '8637', '9221', '1598', '2252', '4433', '5524', '7118', '8271', '9838', '2386', '5080', '7413', '9483', '5069', '6356', '7428', '9473', '846', '1997', '4027', '5616', '6946', '7224', '8081', '1097', '3087', '5308', '7848', '4412', '8141', '2093', '5020', '5717', '6887', '7196', '8130', '9394', '4120', '4746', '5613', '6616', '3393', '3750', '4392', '4995', '5461', '5737', '5885', '6859', '8671', '2789', '4143', '5557', '6602', '6717', '7818', '8177', '9374', '9458', '4334', '4941', '5295', '8818', '8919', '3233', '3674', '4381', '4800', '5216', '5237', '6204', '8059', '9413', '9733', '1567', '4163', '1318', '1930', '7719', '8626', '4010', '4673', '5866', '9176', '9550', '9928', '2703', '4442', '4762', '6635', '7079', '7777', '8618', '9822', '1679', '2764', '6608', '9881', '6071', '4860', '9412', '3959', '4032', '4875', '5232', '6738', '6781', '8161', '8342', '8684', '8686', '9141', '9369', '2077', '4264', '4401', '7995', '9435', '9532', '3361', '4849', '9325', '7552', '9585', '9718', '4627', '4985', '5969', '8304', '2840', '3865', '4357', '5436', '5514', '5535', '5786', '6706', '6810', '6921', '7421', '7469', '8329', '8826', '9202', '9391', '9543', '9699', '4267', '6021', '7749', '2441', '2625', '3244', '5751', '6172', '7287', '7322', '7526', '9942', '2863', '5829', '6136', '6524', '9863', '7660', '2758', '4054', '6919', '7474', '8230', '8695', '8928', '7024', '7424', '9540', '9824', '9976', '2901', '3077', '4510', '6739', '3194', '3293', '5352', '5880', '7294', '8728', '8798', '9074', '9125', '9642', '9913', '1515', '4137', '8158', '1810', '2821', '3999', '7112', '2656', '4563', '8761', '9407', '9849', '2623', '2790', '4479', '6531', '9534', '9813', '2013', '6270', '7658', '3480', '4457', '7278', '9529', '6367', '9328', '4847', '6965', '7343', '7638', '9398', '9864', '9939', '2351', '6084', '6533', '4036', '4555', '8490', '8907', '2009', '5041', '6637', '7922', '1353', '4097', '7736', '8377', '2404', '5647', '9386', '1100', '3972', '4241', '4415', '4887', '6060', '7926', '2691', '3599', '3737', '5694', '6198', '6269', '6930', '7981', '8340', '5532', '5660', '9000', '3099', '3247', '5629', '2527', '3564', '3962', '6160', '6712', '7555', '8491', '8670', '2333', '6362', '3044', '5701', '6113', '6939', '3733', '5958', '8324', '8549', '6809', '7130', '7372', '2208', '2281', '3834', '4253', '4503', '5114', '5371', '5415', '5593', '6092', '6832', '7001', '7809', '7953', '8252', '8420', '9252', '9340', '9739', '5348', '7671', '8347', '4152', '5149', '5411', '6902', '7014', '7288', '9592', '9710', '9721', '3703', '4153', '5894', '8660', '9687', '6723', '7733', '3927', '4987', '5372', '5438', '8264', '8662', '3229', '6073', '1825', '2448', '2986', '3150', '3260', '4420', '7340', '8117', '8939', '9284', '2158', '3220', '5674', '9307', '3074', '8183', '2957', '4997', '7350', '8648', '3894', '6927', '9354', '9447', '9720', '3316', '3547', '6863', '9222', '9420', '9588', '2365', '3644', '8294', '5544', '5578', '5989', '8789', '8959', '3684', '3760', '4478', '4697', '4921', '5199', '5246', '8986', '6611', '8367', '2513', '4379', '5888', '7468', '7746', '8031', '8076', '8421', '2339', '2650', '4275', '4768', '6054', '7510', '9225', '9862', '1127', '5723', '7709', '7893', '7904', '8040', '8301', '8429', '8896', '9640', '6161', '6434', '7052', '9615', '3208', '3243', '8129', '5550', '5783', '7403', '9034', '9970', '4041', '1371', '7204', '3790', '6002', '7201', '9462', '3387', '5043', '6983', '7532', '8687', '2446', '4468', '7955', '8282', '7822', '8953', '9876', '5546', '5705', '9388', '9787', '875', '5428', '8077', '2021', '3581', '7260', '9868', '6872', '8287', '9308', '8482', '7905', '8449', '8672', '2181', '4978', '5588', '8497', '9840', '9847', '3507', '3783', '3946', '5679', '6085', '7002', '8053', '1909', '1948', '4003', '4717', '4756', '5957', '6822', '8610', '9426', '9793', '1950', '8929', '9859', '4421', '2510', '3516', '1689', '2998', '7599', '7604', '1842', '2611', '2709', '4347', '4952', '5765', '6243', '6386', '7407', '8753', '9156', '9767', '1298', '1903', '2640', '5115', '5432', '5954', '6247', '6976', '7582', '7878', '7937', '9854', '9880', '1714', '3086', '9121', '1058', '2676', '3004', '8085', '3084', '4476', '5904', '9980', '1592', '1616', '2695', '3800', '7979', '8118', '8652', '1643', '1967', '3615', '5797', '7400', '6313', '7073', '3502', '4652', '7694', '9622', '2474', '7286', '7266', '9746', '4215', '7298', '8019', '4593', '5417', '8400', '7332', '9040', '6936', '8580', '2183', '2982', '4839', '5116', '5459', '6621', '9268', '9431', '7219', '9072', '9384', '8701', '9521', '3977', '4868', '6304', '6618', '9139', '4614', '5365', '8845', '9414', '9573', '3007', '4600', '7111', '7429', '2432', '2960', '3975', '7499', '7850', '7827', '2644', '3767', '5836', '8839', '7386', '8388', '4278', '6558', '3950', '7721', '3163', '4398', '5848', '6911', '7769', '8776', '9185', '7823', '8244', '7214', '3813', '4972', '7093', '4596', '7173', '7447', '7653', '8494', '9367', '3573', '4813', '5435', '7172', '4238', '4668', '4728', '3678', '4365', '4677', '5209', '7804', '7843', '8210', '8719', '9618', '3796', '6982', '9029', '1253', '3331', '3905', '4046', '4201', '6716', '7504', '9280', '9008', '6320', '6719', '6948', '9658', '4695', '6211', '7726', '6000', '8188', '9572', '1078', '2478', '3328', '5517', '5758', '7283', '9108', '9910', '3824', '5211', '8299', '9469', '9477', '2637', '9755', '3133', '7304', '8516', '9486', '3160', '3861', '5512', '8936', '3466', '4966', '7141', '3166', '5620', '7247', '7642', '8112', '8785', '9269', '1421', '3825', '4160', '4390', '7466', '7977', '7135', '2436', '8832', '4122', '5206', '5867', '6167', '7760', '6772', '7816', '8232', '4973', '8032', '8110', '5052', '5277', '8720', '9053', '3814', '4158', '4195', '4639', '4653', '8092', '9757', '5014', '5912', '7973', '1937', '6364', '4601', '5728', '5393', '5753', '5942', '6097', '3486', '8466', '3591', '8037', '8467', '9077', '9898', '3267', '6128', '6355', '5385', '8163', '9432', '3378', '3089', '9357', '3274', '4776', '6698', '5076', '5204', '8369', '2740', '3147', '7856', '675', '3759', '6361', '6963', '8233', '4315', '6282', '7082', '8448', '8774', '8795', '6303', '9937', '4934', '4113', '7533', '7412', '3403', '3632', '4999', '7280', '7700', '8073', '3549', '4446', '6425', '5179', '5671', '8148', '3874', '4857', '6487', '6991', '9836', '5521', '8114', '8550', '8855', '9538', '2814', '7289', '8700', '6468', '6833', '2689', '4464', '4705', '7855', '8992', '2809', '6112', '6040', '8314', '5040', '9064', '9240', '6325', '9765', '5721', '5632', '6019', '2879', '9306', '4671', '5943', '6090', '7896', '8940', '9889', '3039', '5538', '6548', '9655', '6847', '9195', '9924', '8548', '8582', '9317', '6338', '7989', '8532', '4349', '9310', '3960', '5108', '5850', '4687', '5649', '9408', '2871', '5238', '8375', '9302', '5993', '9531', '9834', '8033', '8045', '8881', '3362', '5520', '7198', '7680', '7946', '9738', '4411', '7933', '8816', '8269', '8698', '5653', '7789', '2290', '2519', '5551', '9659', '3311', '6411', '9085', '3123', '5934', '7269', '3756', '9036', '4607', '5792', '8934', '3614', '3860', '8052', '8465', '7034', '9564', '8862', '6526', '6615', '3402', '6419', '6688', '5510', '5910', '7019', '8004', '8436', '9070', '9696', '2134', '2308', '3153', '3383', '4169', '5202', '6301', '7705', '8852', '9320', '6813', '5936', '7364', '9278', '8254', '3346', '5188', '5484', '6091', '8445', '4702', '5720', '6945', '7065', '8552', '9071', '9589', '9830', '9153', '9670', '3395', '4696', '2300', '7551', '5258', '6472', '9551', '4284', '4383', '6605', '2943', '5907', '8803', '2553', '2574', '2678', '3518', '3869', '5986', '6557', '9316', '9569', '8732', '8259', '3028', '9735', '2191', '8810', '2188', '5270', '6240', '7624', '8568', '2175', '4917', '3634', '7649', '8478', '9874', '8316', '9520', '7142', '6628', '5675', '2958', '8194', '9289', '2899', '6572', '9326', '2978', '3745', '4737', '7075', '9761', '6785', '7067', '4180', '4227', '4597', '4805', '5556', '7060', '7377', '5890', '6219', '5474', '7522', '5378', '8461', '8788', '8944', '4269', '4380', '4566', '3439', '5928', '5377', '6403', '6913', '3747', '5683', '6407', '8263', '8933', '9441', '2930', '3602', '6801', '9930', '2832', '9182', '9831', '6035', '3666', '6273', '6761', '5677', '6413', '6503', '6680', '7753', '3715', '6633', '7194', '9293', '2804', '4183', '6225', '6505', '7029', '3033', '5067', '9215', '1860', '4409', '8507', '2547', '4796', '5349', '6888', '8278', '4795', '4834', '7140', '6415', '7180', '7263', '6043', '4527', '7328', '8027', '9025', '4663', '5787', '6561', '7598', '8893', '3445', '6377', '7358', '9894', '2476', '4427', '8995', '6384', '6389', '7314', '3680', '9429', '5750', '7713', '8270', '9167', '9558', '3809', '5157', '8345', '3365', '4923', '4321', '7274', '7297', '9423', '9454', '1583', '1926', '5825', '7321', '6396', '8470', '6451', '7916', '3660', '7520', '9266', '3761', '4842', '8054', '7861', '5503', '7579', '9013', '5580', '1763', '2469', '9080', '4533', '6158', '6818', '9936', '2200', '2535', '5130', '6346', '3318', '4520', '5875', '6889', '2371', '3035', '3141', '7402', '3323', '7086', '3941', '4093', '5410', '6583', '8168', '8957', '2813', '4249', '8160', '4537', '8628', '5793', '7245', '7578', '5833', '9323', '4437', '7676', '9030', '9821', '3882', '8159', '7202', '9601', '4070', '5009', '5243', '7154', '8955', '7974', '6681', '9250', '1187', '4351', '7525', '9839', '9067', '9276', '7819', '8185', '7833', '4289', '4723', '6536', '8895', '8978', '9400', '9899', '8453', '3067', '5172', '8864', '5805', '6960', '7323', '8323', '8650', '9355', '4957', '2291', '4117', '4456', '4769', '7018', '7392', '8452', '9052', '7636', '9857', '9283', '8987', '4451', '7352', '5596', '8029', '8235', '8811', '7891', '4400', '6028', '7398', '7901', '8889', '8977', '2030', '3794', '5414', '5598', '7353', '2481', '8098', '8757', '7847', '2736', '8866', '4443', '6078', '6471', '1935', '3607', '4659', '2063', '7515', '8485', '3003', '8016', '6064', '8708', '9235', '9885', '2417', '2707', '9208', '2247', '9133', '4781', '5539', '6603', '7116', '3726', '3779', '5006', '7251', '7600', '8722', '9092', '4814', '5951', '9619', '6819', '9356', '6385', '8956', '4283', '7481', '8217', '8359', '3646', '4925', '7056', '9433', '5200', '5213', '4691', '7761', '6563', '5630', '3348', '9722', '7238', '4761', '3008', '8589', '3340', '7876', '3276', '3781', '4247', '4731', '6581', '8137', '8713', '9468', '3105', '4801', '9078', '9060', '3109', '6256', '7307', '8747', '7324', '9277', '4578', '9972', '8830', '4558', '5801', '2845', '4550', '6178', '2586', '8043', '8156', '4595', '7650', '2578', '4947', '9347', '5486', '3636', '4243', '6196', '8281', '9931', '1961', '2407', '6145', '7747', '6443', '9790', '7088', '3144', '8389', '7661', '9614', '2808', '3514', '7311', '4198', '4450', '4802', '7880', '7258', '5828', '7903', '9997', '4281', '8729', '9582', '5210', '8723', '5861', '8131', '6319', '4741', '8015', '8615', '3992', '6229', '9769', '5161', '7529', '9744', '8365', '8932', '9590', '4441', '7966', '7982', '9242', '4118', '7275', '8758', '2973', '7236', '8759', '9971', '6525', '7928', '5687', '4654', '4850', '8406', '8101', '6759', '6426', '9597', '2895', '7869', '7176', '5504', '7157', '7940', '8796', '3687', '6133', '6351', '9177', '5082', '6275', '4098', '7239', '8690', '3677', '9198', '6594', '7476', '9609', '3110', '4233', '5956', '6169', '3791', '9986', '3852', '7854', '8915', '9835', '9245', '6697', '7425', '4063', '6311', '8226', '5601', '6816', '8154', '9438', '8538', '2602', '4745', '5347', '3198', '5113', '5136', '7291', '8790', '4219', '4488', '6296', '6788', '9638', '5010', '5392', '6754', '6768', '7162', '8870', '6937', '9194', '4785', '2686', '4812', '6812', '8619', '3909', '5810', '7255', '8405', '6394', '5495', '6109', '9646', '5087', '8368', '5038', '5318', '5622', '6463', '7478', '9727', '6970', '7050', '2515', '7508', '9907', '8305', '8962', '4830', '8634', '6237', '6892', '4221', '9723', '6521', '2147', '5779', '4179', '9138', '2898', '8749', '9259', '9298', '3500', '8372', '9812', '7031', '9962', '9677', '5235', '6135', '5444', '6613', '7114', '2910', '7150', '7969', '8273', '9842', '6844', '9684', '3342', '4846', '2289', '2675', '7494', '9014', '7908', '9649', '8745', '7293', '9641', '9929', '8103', '8630', '9781', '7500', '7846', '7875', '8529', '6777', '7306', '7898', '9113', '9825', '6644', '6457', '7882', '8255', '7941', '8411', '9364', '5266', '7414', '8290', '9660', '9808', '6223', '8336', '7993', '6285', '8638', '4031', '7183', '8848', '8583', '8731', '4257', '5655', '6675', '7779', '4188', '4592', '7999', '8379', '4880', '7216', '4891', '4882', '6642', '8034', '5730', '8975', '2933', '3056', '7740', '9118', '5446', '5102', '8017', '5148', '9409', '3522', '4376', '7744', '8363', '5034', '6329', '7539', '8349', '8590', '8909', '6324', '9489', '4984', '4414', '9758', '6956', '8528', '9418', '6033', '6104', '7506', '7234', '8462', '7184', '3203', '5711', '5091', '8925', '8087', '9923', '5652', '5537', '5729', '6634', '7679', '2145', '4190', '8115', '9403', '5619', '7070', '5233', '9057', '8384', '8416', '8938', '9027', '6022', '6527', '8985', '7191', '8631', '4210', '4970', '6244', '6646', '9919', '3893', '4362', '6668', '7203', '8407', '9678', '4173', '3912', '5599', '9401', '6359', '6999', '9217', '7970', '5508', '8280', '9393', '9218', '4501', '9043', '8993', '4254', '8173', '9803', '9478', '9333', '5175', '7310', '9905', '7048', '4990', '7715', '7464', '8374', '9581', '6262', '4139', '5487', '9548', '6854', '8756', '9611', '7992', '9101', '6711', '7527', '9663', '5734', '4686', '5665', '8425', '9312', '9094', '5185', '8815', '7829', '9656', '9332', '5137', '7357', '7639', '7701', '7406', '5170', '6302', '7697', '5560', '7803', '7735', '8998', '5722', '8373', '5431', '9102', '7411', '4486', '6631', '9702', '4670', '7799', '5426', '9576', '3503', '9510', '5244', '8262', '9114', '7780', '4136', '4606', '3970', '6321', '8458', '7254', '9450', '6729', '9583', '6001', '4580', '6465', '5153', '9150', '9159', '9935', '6619', '8186', '5759', '7692', '6315', '9089', '9736', '7764', '7947', '9342', '3736', '7503', '8480', '9518', '5396', '4690', '8844', '9079', '5094', '6014', '6905', '4111', '4368', '4057', '7080', '8147', '8521', '9805', '9943', '6696', '8024', '8424', '6183', '3889', '7607', '7686', '6006', '8069', '9979', '4407', '4534', '7516', '3440', '8475', '4772', '7137', '8489', '8351', '9490', '8446', '9378', '9502', '7042', '7136', '8806', '9598', '4963', '7225', '8937', '6182', '8308', '6349', '7023', '9353', '8236', '7486', '5874', '5558', '6122', '9837', '5755', '7383', '9210', '8651', '9584', '4202', '9892', '5896', '7991', '5681', '4356', '4788', '6416', '8908', '8591', '5359', '9853', '5641', '5447', '9062', '7347', '5581', '7718', '9845', '6289', '9381', '6776', '8082', '8585', '9536', '6193', '9481', '7271', '6924', '8505', '9287', '9227', '8635', '5201', '6704', '6778', '6953', '8385', '7000', '6371', '4969', '4863', '5207', '5418', '6987', '7625', '9270', '7151', '5111', '6339', '5031', '8984', '9932', '6140', '5923', '5961', '9651', '9652', '8332', '6228', '6365', '5567', '8819', '4507', '3716', '8636', '3774', '9779', '7249', '5590', '3217', '4166', '9537', '6932', '8227', '8150', '8974', '8885', '7218', '5661', '7693', '8574', '9338', '8488', '6929', '7292', '8415', '3740', '3886', '4628', '8250', '7559', '6980', '7054', '9901', '7763', '9509', '4105', '7120', '6687', '7613', '6714', '9311', '6402', '4730', '9362', '6975', '9535', '5259', '6827', '5445', '8547', '5070', '6620', '5023', '5818', '8157', '7161', '9908', '9841', '8872', '8598', '7354', '7422', '9048', '8274', '5433', '5190', '6853', '8519', '8127', '8361', '9896', '6770', '6459', '6454', '9562', '8091', '5499', '7537', '7597', '8193', '8605', '9390', '9324', '8780', '9579', '7128', '9417', '9292', '7083', '8587', '4422', '6142', '8319', '9248', '9577', '7682', '7902', '6233', '6101', '5902', '8050', '9944', '5795', '8791', '9600', '7688', '8380', '8696', '7652', '9226', '6798', '6499', '5327', '9216', '7169', '8285', '9261', '6257', '6278', '8607', '8661', '9941', '8601', '9463', '4448', '4115', '7436', '6724', '8174', '8283', '5648', '6643', '8727', '4837', '6665', '7948', '7546', '7627', '5370', '7808', '7930', '9995', '9603', '4058', '8203', '7786', '6210', '9396', '7226', '6914', '9238', '9730', '7041', '5987', '5152', '8572', '8383', '3904', '8422', '9602', '6743', '6449', '5440', '6571', '7011', '8205', '9090', '9444', '9623', '7587', '9045', '7404', '6845', '9988', '8189', '9107', '9254', '8979', '8738', '7665', '9927', '7986', '9960', '5807', '8501', '8339', '7795', '7633', '7675', '8730', '9279', '9886', '9399', '7496', '8440', '7370', '9044', '8869', '9020', '9144', '9691', '9129', '9607', '6582', '5884', '7022', '9809', '7656', '9820', '9631', '8220', '8781', '8924', '9507', '9135', '8736', '8999', '9482', '6874', '8267', '9948', '9485', '9586'))"
      ]
     },
     "execution_count": 14,
     "metadata": {},
     "output_type": "execute_result"
    }
   ],
   "source": [
    "# to visualize the nodes' names\n",
    "nx.nodes(G)"
   ]
  },
  {
   "cell_type": "markdown",
   "metadata": {},
   "source": [
    "### Graph operations"
   ]
  },
  {
   "cell_type": "markdown",
   "metadata": {},
   "source": [
    "**subgraph(G, nbunch)** - induce subgraph of $G$ on nodes in nbunch  \n",
    "**union(G1,G2)** - graph union  \n",
    "**disjoint_union(G1,G2)** - graph union assuming all nodes are different  \n",
    "**cartesian_product(G1,G2)** - return Cartesian product graph  \n",
    "**compose(G1,G2)** - combine graphs identifying nodes common to both  \n",
    "**complement(G)** - graph complement  \n",
    "**create_empty_copy(G)** - return an empty copy of the same graph class    \n",
    "**convert_to_undirected(G)** - return an undirected representation of $G$  \n",
    "**convert_to_directed(G)** - return a directed representation of $G$\n",
    "\n",
    "Imagine we want to select a portion of the graph (a subgraph), i.e. some nodes and the connections among them. \n",
    "\n",
    "A naive approach would look like:\n",
    "\n",
    "a)select the nodes we are interesting in an put them in a list\n",
    "\n",
    "b)select the lines in the edge-list where both source and target belong the list\n",
    "\n",
    "otherwise..."
   ]
  },
  {
   "cell_type": "code",
   "execution_count": 15,
   "metadata": {},
   "outputs": [],
   "source": [
    "H=G.subgraph(nodes)"
   ]
  },
  {
   "cell_type": "code",
   "execution_count": 16,
   "metadata": {},
   "outputs": [
    {
     "data": {
      "text/plain": [
       "NodeView(())"
      ]
     },
     "execution_count": 16,
     "metadata": {},
     "output_type": "execute_result"
    }
   ],
   "source": [
    "nx.nodes(H)  "
   ]
  },
  {
   "cell_type": "markdown",
   "metadata": {},
   "source": [
    "Why? what's going on?"
   ]
  },
  {
   "cell_type": "code",
   "execution_count": 17,
   "metadata": {},
   "outputs": [
    {
     "data": {
      "text/plain": [
       "[0, 5, 6, 15, 72, 92, 162, 249, 258, 290, 292]"
      ]
     },
     "execution_count": 17,
     "metadata": {},
     "output_type": "execute_result"
    }
   ],
   "source": [
    "nodes"
   ]
  },
  {
   "cell_type": "code",
   "execution_count": 18,
   "metadata": {},
   "outputs": [
    {
     "data": {
      "text/plain": [
       "NodeView(('6', '249', '290', '5', '258', '92', '15', '162', '292', '0', '72'))"
      ]
     },
     "execution_count": 18,
     "metadata": {},
     "output_type": "execute_result"
    }
   ],
   "source": [
    "H=G.subgraph([str(i) for i in nodes])\n",
    "nx.nodes(H)  "
   ]
  },
  {
   "cell_type": "code",
   "execution_count": 19,
   "metadata": {},
   "outputs": [
    {
     "data": {
      "image/png": "[encoded data removed]",
      "text/plain": [
       "<Figure size 432x288 with 1 Axes>"
      ]
     },
     "metadata": {},
     "output_type": "display_data"
    }
   ],
   "source": [
    "nx.draw(H,with_labels=True)"
   ]
  },
  {
   "cell_type": "markdown",
   "metadata": {},
   "source": [
    "why do we get more links than before? check check and check\n",
    "\n",
    "\n",
    "If you need all the lines of the edge list with a particular value of the source you can simply type:\n",
    "\n",
    "**edge_list[edge_list.source==X]**\n",
    "\n",
    "and it will return to the lines which satisfy the inner condition.\n",
    "\n",
    "You can also use composite conditions."
   ]
  },
  {
   "cell_type": "code",
   "execution_count": 20,
   "metadata": {},
   "outputs": [
    {
     "name": "stdout",
     "output_type": "stream",
     "text": [
      "we got (5, 162)\n"
     ]
    }
   ],
   "source": [
    "checks=[(92,72),(290,6),(6,5),(5,162),(15,5)]\n",
    "for i in checks:\n",
    "    temp=edge_list[(edge_list.source==i[0]) &  (edge_list.target==i[1])]\n",
    "    if len(temp)>0:\n",
    "        print('we got',i)"
   ]
  },
  {
   "cell_type": "markdown",
   "metadata": {},
   "source": [
    "Why we did not find all the connections?"
   ]
  },
  {
   "cell_type": "code",
   "execution_count": 21,
   "metadata": {},
   "outputs": [
    {
     "name": "stdout",
     "output_type": "stream",
     "text": [
      "we got (92, 72)\n",
      "we got (290, 6)\n",
      "we got (6, 5)\n",
      "we got (5, 162)\n",
      "we got (15, 5)\n"
     ]
    }
   ],
   "source": [
    "checks=[(92,72),(290,6),(6,5),(5,162),(15,5)]\n",
    "for i in checks:\n",
    "    temp=edge_list[(edge_list.source==i[0]) &  (edge_list.target==i[1])]\n",
    "    if len(temp)>0:\n",
    "        print('we got',i)\n",
    "    else:\n",
    "        temp=edge_list[(edge_list.source==i[1]) &  (edge_list.target==i[0])]\n",
    "        print('we got',i)"
   ]
  },
  {
   "cell_type": "markdown",
   "metadata": {},
   "source": [
    "Directed vs Undirected: in the case of undirected networks all the sources are targets and vice-versa. So if you are looking for a particular link better to check in both direction.  "
   ]
  },
  {
   "cell_type": "markdown",
   "metadata": {},
   "source": [
    "## The degree distribution: P(k)\n",
    "\n",
    "In order to compute the degree distribution of a netowrk we need to:\n",
    "\n",
    "a) compute its **degree sequence**\n",
    "\n",
    "b) compute the **frequency** for each values of k in the degree sequence\n",
    "\n",
    "c) **normalize** the frequency to the total count."
   ]
  },
  {
   "cell_type": "markdown",
   "metadata": {},
   "source": [
    "### a)"
   ]
  },
  {
   "cell_type": "code",
   "execution_count": 22,
   "metadata": {},
   "outputs": [
    {
     "name": "stdout",
     "output_type": "stream",
     "text": [
      "4.509049415588379\n"
     ]
    }
   ],
   "source": [
    "#here we look for the degree of each node.\n",
    "#we use a dictionary\n",
    "start=time.time()\n",
    "degrees={}\n",
    "for i in edge_list.iterrows():\n",
    "    if i[1].source not in degrees:\n",
    "        degrees[i[1].source]=0\n",
    "    if i[1].target not in degrees:\n",
    "        degrees[i[1].target]=0\n",
    "    degrees[i[1].source]+=1\n",
    "    degrees[i[1].target]+=1\n",
    "print(time.time()-start)"
   ]
  },
  {
   "cell_type": "code",
   "execution_count": 23,
   "metadata": {},
   "outputs": [],
   "source": [
    "degree_sequence=list(degrees.values())"
   ]
  },
  {
   "cell_type": "markdown",
   "metadata": {},
   "source": [
    "### what do I get if I sum up over all the element in degrees?\n",
    "\n",
    "a)E: number of edges\n",
    "\n",
    "b)2E: twice the number of edges\n",
    "\n",
    "c)4E: four times the number of egdes\n",
    "\n",
    "We can get the total number of links in the network using the\n",
    "\n",
    "**number_of_edges()**\n",
    "\n",
    "function"
   ]
  },
  {
   "cell_type": "code",
   "execution_count": 24,
   "metadata": {},
   "outputs": [
    {
     "name": "stdout",
     "output_type": "stream",
     "text": [
      "49975\n"
     ]
    }
   ],
   "source": [
    "print(G.number_of_edges())"
   ]
  },
  {
   "cell_type": "code",
   "execution_count": 25,
   "metadata": {},
   "outputs": [
    {
     "name": "stdout",
     "output_type": "stream",
     "text": [
      "99950\n"
     ]
    }
   ],
   "source": [
    "print(np.sum(degree_sequence))"
   ]
  },
  {
   "cell_type": "code",
   "execution_count": 26,
   "metadata": {},
   "outputs": [
    {
     "data": {
      "text/plain": [
       "True"
      ]
     },
     "execution_count": 26,
     "metadata": {},
     "output_type": "execute_result"
    }
   ],
   "source": [
    "np.sum(degree_sequence)==2*G.number_of_edges()"
   ]
  },
  {
   "cell_type": "markdown",
   "metadata": {},
   "source": [
    "b)2E: twice the number of edges. \n",
    "\n",
    "**degree sum formula**  (also sometimes called the handshaking lemma)\n",
    "\n",
    " $\\sum_i k_i$=2|E|"
   ]
  },
  {
   "cell_type": "code",
   "execution_count": 27,
   "metadata": {},
   "outputs": [
    {
     "name": "stdout",
     "output_type": "stream",
     "text": [
      "0.003830432891845703\n"
     ]
    }
   ],
   "source": [
    "#Using networkX\n",
    "start=time.time()\n",
    "degree_sequence_nx=[d for n,d in G.degree()]\n",
    "print(time.time()-start)"
   ]
  },
  {
   "cell_type": "markdown",
   "metadata": {},
   "source": [
    "### b)\n",
    "Using an histogram we can compute the degree frequency"
   ]
  },
  {
   "cell_type": "code",
   "execution_count": 28,
   "metadata": {},
   "outputs": [],
   "source": [
    "bins=np.arange(0.5,max(np.unique(list(degrees.keys()))),1)"
   ]
  },
  {
   "cell_type": "code",
   "execution_count": 29,
   "metadata": {},
   "outputs": [
    {
     "name": "stdout",
     "output_type": "stream",
     "text": [
      "0.5 --> 1.5\n",
      "1.5 --> 2.5\n",
      "2.5 --> 3.5\n",
      "3.5 --> 4.5\n",
      "4.5 --> 5.5\n",
      "5.5 --> 6.5\n",
      "6.5 --> 7.5\n",
      "7.5 --> 8.5\n",
      "8.5 --> 9.5\n",
      "9.5 --> 10.5\n"
     ]
    }
   ],
   "source": [
    "c=1\n",
    "for i,_ in enumerate(bins):\n",
    "    if c <= 10:\n",
    "        print(bins[i],'-->',bins[i+1])\n",
    "        c+=1"
   ]
  },
  {
   "cell_type": "code",
   "execution_count": 30,
   "metadata": {},
   "outputs": [],
   "source": [
    "counts, bins=np.histogram(degree_sequence,bins=bins)\n",
    "counts_nx, bins=np.histogram(degree_sequence_nx,bins=bins)\n",
    "#we use the center of the bin as x for the frequency\n",
    "x=(bins[1:]-bins[:-1])/2 +bins[:-1]"
   ]
  },
  {
   "cell_type": "code",
   "execution_count": 31,
   "metadata": {},
   "outputs": [
    {
     "data": {
      "image/png": "[encoded data removed]",
      "text/plain": [
       "<Figure size 576x360 with 1 Axes>"
      ]
     },
     "metadata": {
      "needs_background": "light"
     },
     "output_type": "display_data"
    }
   ],
   "source": [
    "plt.figure(figsize=(8,5))\n",
    "plt.plot(x[counts!=0],counts[counts!=0],label='Our')\n",
    "plt.plot(x[counts_nx!=0],counts_nx[counts_nx!=0]+1000,label='Networkx')\n",
    "#plt.plot(x[counts_nx!=0],counts_nx[counts_nx!=0],label='Networkx')\n",
    "plt.ylabel('Counts', fontsize=20)\n",
    "plt.xlabel('k',fontsize=20)\n",
    "plt.legend()\n",
    "plt.show()"
   ]
  },
  {
   "cell_type": "markdown",
   "metadata": {},
   "source": [
    "#### Why should we use a library if we can write a code that does the same tasks?\n",
    "\n",
    "1) We do not need to start from the wheel every time we need something\n",
    "\n",
    "2) Libraries are in general optimized. The same optimization will require to you several days of work.\n",
    "\n",
    "#### but...\n",
    "\n",
    "always go a look to the implementation of the algorithm you are using. Never use open source libraries as a black box."
   ]
  },
  {
   "cell_type": "markdown",
   "metadata": {},
   "source": [
    "### c)\n",
    "normalize the count in each bin by the total counts. "
   ]
  },
  {
   "cell_type": "code",
   "execution_count": 32,
   "metadata": {},
   "outputs": [
    {
     "data": {
      "image/png": "[encoded data removed]",
      "text/plain": [
       "<Figure size 576x360 with 1 Axes>"
      ]
     },
     "metadata": {
      "needs_background": "light"
     },
     "output_type": "display_data"
    }
   ],
   "source": [
    "plt.figure(figsize=(8,5))\n",
    "plt.plot(x[counts!=0],counts[counts!=0]/sum(counts[counts!=0]),'o')\n",
    "plt.ylabel('P(k)', fontsize=20)\n",
    "plt.xlabel('k',fontsize=20)\n",
    "\n",
    "plt.show()"
   ]
  },
  {
   "cell_type": "markdown",
   "metadata": {},
   "source": [
    "### What kind of distribution is the one above?\n",
    "$ p(k) \\sim C * ? $"
   ]
  },
  {
   "cell_type": "code",
   "execution_count": 33,
   "metadata": {},
   "outputs": [
    {
     "data": {
      "image/png": "[encoded data removed]",
      "text/plain": [
       "<Figure size 576x360 with 1 Axes>"
      ]
     },
     "metadata": {
      "needs_background": "light"
     },
     "output_type": "display_data"
    }
   ],
   "source": [
    "plt.figure(figsize=(8,5))\n",
    "plt.loglog(x[counts!=0],counts[counts!=0]/sum(counts[counts!=0]),'o')\n",
    "plt.ylabel('P(k)', fontsize=20)\n",
    "plt.xlabel('k',fontsize=20)\n",
    "\n",
    "plt.show()"
   ]
  },
  {
   "cell_type": "markdown",
   "metadata": {},
   "source": [
    "Notice that because the degree of a node is by definition an integer,\n",
    "you can also use an internal function of numpy\n",
    "to compute the degree distribution, that is:\n",
    "\n",
    "**np.unique()**"
   ]
  },
  {
   "cell_type": "code",
   "execution_count": 34,
   "metadata": {},
   "outputs": [],
   "source": [
    "xx,countss=np.unique(degree_sequence,return_counts=True)"
   ]
  },
  {
   "cell_type": "code",
   "execution_count": 36,
   "metadata": {},
   "outputs": [
    {
     "data": {
      "image/png": "[encoded data removed]",
      "text/plain": [
       "<Figure size 576x360 with 1 Axes>"
      ]
     },
     "metadata": {
      "needs_background": "light"
     },
     "output_type": "display_data"
    }
   ],
   "source": [
    "plt.figure(figsize=(8,5))\n",
    "plt.loglog(xx,countss/sum(countss),'o')\n",
    "plt.ylabel('P(k)', fontsize=20)\n",
    "plt.xlabel('k',fontsize=20)\n",
    "\n",
    "plt.show()"
   ]
  },
  {
   "cell_type": "markdown",
   "metadata": {},
   "source": [
    "### From synthetic networks to real-world networks\n",
    "\n",
    "Empirical netowrks are in general scale-free between a $k_{min}$ and a $k_{max}$.\n",
    "\n",
    "$p(k) =(\\gamma -1)/(k_{min}) * (k/k_{min})^{-\\gamma}$"
   ]
  },
  {
   "cell_type": "markdown",
   "metadata": {},
   "source": [
    "In order to completely define the distribution we need to find the two parameters $\\gamma$ and $k_{min}$ that better fit the power-law.\n",
    "\n",
    "\n",
    "The **the scaling parameter** can be computed using the **method of maximum likelihood**:\n",
    "\n",
    "$\\hat\\gamma =1+ N* \\left[\\sum_{i=1}^N \\ln(k_i/k_min )\\right]^{-1}$ \n",
    "\n",
    "$\\sigma = (\\hat\\gamma -1) / \\sqrt N$\n",
    "\n",
    "\n",
    "How can we estimate the value of $k_{min}?$\n",
    "\n",
    "We can use **Kolmogorov-Smirnov** or KS statistic, which is simply the maximum distance between the CDFs of the\n",
    "data and the fitted model:\n",
    "\n",
    "$D = max_{k\\geq k_{min}}|S(x) +P(x)|$\n",
    "\n",
    "Here $S(x)$ is the CDF of the data for the observations, and $P(x)$ is the CDF for the power-law model that best fits the data in the region $k \\geq K_{min}$. Our estimate $k_{min}$ is then the value that minimizes $D$.\n",
    "\n",
    "#### The final recipe:\n",
    "\n",
    "For $k_{min}$ in KMIN_RANGE: \n",
    "\n",
    "a) Find $\\hat\\gamma$ \n",
    "\n",
    "b) Compute D\n",
    "\n",
    "c) store values of $k_{min}$, $\\hat\\gamma$,D\n",
    "\n",
    "d) Repeat for each value in KMIN_RANGE\n",
    "\n",
    "e) Select the lowest value of $\\hat D$ --> $k_{min}$, $\\hat\\gamma$\n",
    "\n",
    "\n",
    "(see https://arxiv.org/pdf/0706.1062.pdf)\n",
    "\n",
    "The library **powerlaw** does everything for us:"
   ]
  },
  {
   "cell_type": "code",
   "execution_count": 37,
   "metadata": {},
   "outputs": [
    {
     "name": "stdout",
     "output_type": "stream",
     "text": [
      "scaling expoenent 2.877304526763097\n",
      "k_min 10.0\n"
     ]
    },
    {
     "name": "stderr",
     "output_type": "stream",
     "text": [
      "Calculating best minimal value for power law fit\n",
      "/home/ec2-user/anaconda3/lib/python3.8/site-packages/powerlaw.py:699: RuntimeWarning: invalid value encountered in true_divide\n",
      "  (CDF_diff**2) /\n",
      "/home/ec2-user/anaconda3/lib/python3.8/site-packages/powerlaw.py:699: RuntimeWarning: divide by zero encountered in true_divide\n",
      "  (CDF_diff**2) /\n"
     ]
    }
   ],
   "source": [
    "##cal the function: input the degree sequence\n",
    "fit = powerlaw.Fit(degree_sequence_nx, discrete=True)\n",
    "alpha=fit.alpha\n",
    "print('scaling expoenent',alpha)\n",
    "k_min=fit.xmin\n",
    "print('k_min',k_min)"
   ]
  },
  {
   "cell_type": "markdown",
   "metadata": {},
   "source": [
    "The **goodness-of-fit** test generates a p-value that quantifies the plausibility of the hypothesis:\n",
    "\n",
    "Startin from $\\hat D$:\n",
    "\n",
    "1)generate a large number of power-law distributed synthetic data sets with scaling parameter $\\hat\\gamma$ and $k_{min}$\n",
    "\n",
    "2)fit each synthetic data set individually to its own power-law model and calculate the KS statistic for each one relative to its own model\n",
    "\n",
    "3)count what fraction of the time the resulting statistic is larger than the value for the empirical data. This\n",
    "fraction is our p-value"
   ]
  },
  {
   "cell_type": "markdown",
   "metadata": {},
   "source": [
    "# Homework:\n",
    "\n",
    "1) select a network from the web.\n",
    "Source:\n",
    "\n",
    "-->https://hmakse.ccny.cuny.edu/\n",
    "\n",
    "-->https://west.uni-koblenz.de/konect\n",
    "\n",
    "-->https://icon.colorado.edu/\n",
    "\n",
    "2) Compute its degree distribution, cumulative degree distribution, \n",
    "$k_{min}$ and $\\hat\\gamma$, gof and p\n",
    "   \n",
    "\n"
   ]
  },
  {
   "cell_type": "markdown",
   "metadata": {},
   "source": [
    "## Scale-free or heavy-tailed?\n",
    "\n",
    "One of the most interesting feature of many-real world networks is their degree distribution.\n",
    "\n",
    "**However, is still open the debate on whether the degree distribution of many real-world networks is scale-free**"
   ]
  },
  {
   "cell_type": "code",
   "execution_count": 38,
   "metadata": {},
   "outputs": [
    {
     "data": {
      "image/png": "[encoded data removed]",
      "text/plain": [
       "<IPython.core.display.Image object>"
      ]
     },
     "execution_count": 38,
     "metadata": {},
     "output_type": "execute_result"
    }
   ],
   "source": [
    "Image(filename='heavy.PNG') "
   ]
  },
  {
   "cell_type": "code",
   "execution_count": 39,
   "metadata": {},
   "outputs": [],
   "source": [
    "mu, sigma = 2., 1.5 # mean and standard deviation\n",
    "s = np.random.lognormal(mu, sigma, 10001)\n",
    "counts_l, bins=np.histogram(s,bins=bins)\n",
    "x=(bins[1:]-bins[:-1])/2 +bins[:-1]"
   ]
  },
  {
   "cell_type": "code",
   "execution_count": 40,
   "metadata": {},
   "outputs": [
    {
     "data": {
      "image/png": "[encoded data removed]",
      "text/plain": [
       "<Figure size 576x360 with 1 Axes>"
      ]
     },
     "metadata": {
      "needs_background": "light"
     },
     "output_type": "display_data"
    }
   ],
   "source": [
    "plt.figure(figsize=(8,5))\n",
    "plt.loglog(x[counts!=0],counts[counts!=0]/sum(counts),'o',label='Scale-free')\n",
    "plt.loglog(x,counts_l/sum(counts_l),'o',label='Log-normal')\n",
    "plt.ylabel('P(k)', fontsize=20)\n",
    "plt.xlabel('k',fontsize=20)\n",
    "\n",
    "plt.legend()\n",
    "plt.show()"
   ]
  },
  {
   "cell_type": "markdown",
   "metadata": {},
   "source": [
    "#### What happens if we increase  $\\sigma$ ?"
   ]
  },
  {
   "cell_type": "markdown",
   "metadata": {},
   "source": [
    "### How can we differentiate between a power-law and another heavy-tailed distribution when we see one?\n",
    "\n",
    "The **likelihood ratio test**:\n",
    "\n",
    "The basic idea behind the likelihood ratio test is to compute the likelihood of\n",
    "the data under two competing distributions. The one with the higher likelihood is\n",
    "then the better fit. Alternatively one can calculate the ratio of the two likelihoods, or\n",
    "equivalently the logarithm $R$ of the ratio, which is positive or negative depending on\n",
    "which distribution is better, or zero in the event of a tie.\n",
    "\n",
    "$R=\\sum_i \\ln p_1(k_i)-\\ln p_2(k_i)$\n",
    "\n",
    "\n",
    "**but**\n",
    "\n",
    "$R_1$=+0.001\n",
    "\n",
    "$R_2$=-0.001\n",
    "\n",
    "Because of fluctuations $R_1$ can go in $R_2$ and vice-versa. The sign of the log likelihood ratio alone, however, will not definitively indicate which model is the better fit. We need a log likelihood ratio that is sufficiently positive or negative. To make a quantitative judgment about whether the observed value of R is sufficiently far from zero, we need to know the size of the expected fluctuations, i.e., we need to know the standard deviation $σ$ on $R$:\n",
    "\n",
    "$\\sigma^2 =1/N \\sum_i\\left[(l_i^1-l_i^2) - (\\bar l_i^1-\\bar l_i^2) \\right]^2$\n",
    "\n",
    "and $l_i^j=\\ln p_j(k_i) $\n",
    "\n",
    "Alternatively, we can compute a p-value as:\n",
    "\n",
    "$p=|ercf(R/\\sqrt{2n} σ|$ with ercf e complementary Gaussian error function.\n",
    "\n",
    "Do not worry, you do not have to do everything by yourself, powerlaw help us!!"
   ]
  },
  {
   "cell_type": "code",
   "execution_count": 50,
   "metadata": {},
   "outputs": [
    {
     "name": "stderr",
     "output_type": "stream",
     "text": [
      "Calculating best minimal value for power law fit\n"
     ]
    }
   ],
   "source": [
    "fit = powerlaw.Fit(degree_sequence_nx, discrete=True)\n",
    "R, p = fit.distribution_compare('power_law', 'lognormal')"
   ]
  },
  {
   "cell_type": "code",
   "execution_count": 51,
   "metadata": {},
   "outputs": [
    {
     "name": "stdout",
     "output_type": "stream",
     "text": [
      "-0.16459312794795045\n"
     ]
    }
   ],
   "source": [
    "print(R)"
   ]
  },
  {
   "cell_type": "markdown",
   "metadata": {},
   "source": [
    "If p is small (say p < 0.1) then our value for $R$ is unlikely to be a chance result and hence its sign can probably be trusted as an indicator of which model is the better fit to the data. (It does not however mean that\n",
    "#the model is a good fit, only that it is better than the alternative.)\n"
   ]
  },
  {
   "cell_type": "code",
   "execution_count": 53,
   "metadata": {},
   "outputs": [
    {
     "name": "stdout",
     "output_type": "stream",
     "text": [
      "0.7394277591754541\n"
     ]
    }
   ],
   "source": [
    "print(p)"
   ]
  },
  {
   "cell_type": "markdown",
   "metadata": {},
   "source": [
    "## Using a stochastic graph generator\n",
    "\n",
    "\n",
    "We can use built-in functions to generate some of the most commons\n",
    "synthetic networks:\n",
    "\n",
    "\n",
    "**erdos_renyi_graph()** Erdős–Rényi model--> $P(k) \\sim $ binomial(N,p)\n",
    "\n",
    "https://networkx.org/documentation/networkx-1.9/reference/generated/networkx.generators.random_graphs.watts_strogatz_graph.html\n",
    "\n",
    "**watts_strogatz_graph()** Watts–Strogatz model:  $P(k) \\sim $ delta_Dirac(N,$\\beta$)\n",
    "\n",
    "https://networkx.org/documentation/networkx-1.9/reference/generated/networkx.generators.random_graphs.watts_strogatz_graph.html\n",
    "\n",
    "**barabasi_albert_graph** Barabási–Albert model:  $P(k) \\sim $power_law(N,$\\gamma$)\n",
    "\n",
    "https://networkx.org/documentation/networkx-1.9/reference/generated/networkx.generators.random_graphs.barabasi_albert_graph.html#networkx.generators.random_graphs.barabasi_albert_graph"
   ]
  },
  {
   "cell_type": "code",
   "execution_count": null,
   "metadata": {},
   "outputs": [],
   "source": [
    "N=1000\n",
    "##\n",
    "p=0.15\n",
    "er=nx.erdos_renyi_graph(N,p)\n",
    "##\n",
    "K=20\n",
    "beta=0.5\n",
    "ws=nx.watts_strogatz_graph(N,K,beta)\n",
    "##\n",
    "m=3\n",
    "ba=nx.barabasi_albert_graph(N,m)"
   ]
  },
  {
   "cell_type": "code",
   "execution_count": null,
   "metadata": {},
   "outputs": [],
   "source": [
    "er_degree_sequence=[d for n,d in er.degree()]\n",
    "ws_degree_sequence=[d for n,d in ws.degree()]\n",
    "ba_degree_sequence=[d for n,d in ba.degree()]\n",
    "bins=np.arange(0.5,N,1) \n",
    "\n",
    "counts_er, bins=np.histogram(er_degree_sequence,bins=bins)\n",
    "counts_ws, bins=np.histogram(ws_degree_sequence,bins=bins)\n",
    "counts_ba, bins=np.histogram(ba_degree_sequence,bins=bins)\n",
    "\n",
    "x=(bins[1:]-bins[:-1])/2 +bins[:-1]"
   ]
  },
  {
   "cell_type": "code",
   "execution_count": null,
   "metadata": {},
   "outputs": [],
   "source": [
    "plt.figure(figsize=(10,3), dpi=120) # 10 is width, 4 is height\n",
    "\n",
    "# Left hand side plot\n",
    "plt.subplot(1,3,1)  # (nRows, nColumns, axes number to plot)\n",
    "plt.plot(x[counts_er!=0],counts_er[counts_er!=0]/sum(counts_er),'o')\n",
    "plt.ylabel('P(k)', fontsize=10)\n",
    "plt.xlabel('k',fontsize=10)\n",
    "plt.xlim([100,200])\n",
    "plt.title('Erdős–Rényi model')\n",
    "\n",
    "# Right hand side plot\n",
    "plt.subplot(1,3,2)\n",
    "plt.plot(x[counts_ws!=0],counts_ws[counts_ws!=0]/sum(counts_ws),'o')\n",
    "plt.xscale('log')\n",
    "plt.xlabel('k',fontsize=10)\n",
    "\n",
    "plt.title('Watts–Strogatz model')\n",
    "\n",
    "# Right hand side plot\n",
    "plt.subplot(1,3,3)\n",
    "plt.loglog(x[counts_ba!=0],counts_ba[counts_ba!=0]/sum(counts_ba),'o')\n",
    "plt.xlabel('k',fontsize=10)\n",
    "plt.title('Barabási–Albert model')\n",
    "\n",
    "plt.show()"
   ]
  },
  {
   "cell_type": "markdown",
   "metadata": {},
   "source": [
    "## The small-world property\n",
    "\n",
    "Let us define L as the average short path in a network. \n",
    "\n",
    "L $\\propto $ logN\n",
    "\n",
    "In networkX we can compute the average short path length of a netowork with the following function:\n",
    "\n",
    "**average_shortest_path_length(G)**\n",
    "\n",
    "https://networkx.org/documentation/networkx-1.9/reference/generated/networkx.algorithms.shortest_paths.generic.average_shortest_path_length.html#networkx.algorithms.shortest_paths.generic.average_shortest_path_length"
   ]
  },
  {
   "cell_type": "code",
   "execution_count": null,
   "metadata": {},
   "outputs": [],
   "source": [
    "Lws,Ler,Lba=[],[],[]\n",
    "for N in np.arange(100,10000,50):\n",
    "    Lws.append(nx.average_shortest_path_length(nx.watts_strogatz_graph(N,4,0.6)))\n",
    "    Ler.append(nx.average_shortest_path_length(nx.erdos_renyi_graph(N,p)))\n",
    "    Lba.append(nx.average_shortest_path_length(nx.barabasi_albert_graph(N,m)))"
   ]
  },
  {
   "cell_type": "code",
   "execution_count": null,
   "metadata": {},
   "outputs": [],
   "source": [
    "plt.figure(figsize=(10,3), dpi=120) # 10 is width, 4 is height\n",
    "\n",
    "# Left hand side plot\n",
    "plt.subplot(1,3,1)  # (nRows, nColumns, axes number to plot)\n",
    "plt.plot(np.arange(100,1000,50),Ler,'o')\n",
    "plt.xscale('log')\n",
    "plt.ylabel('<L>', fontsize=10)\n",
    "plt.xlabel('N',fontsize=10)\n",
    "plt.title('Erdős–Rényi model')\n",
    "\n",
    "# Right hand side plot\n",
    "plt.subplot(1,3,2)\n",
    "plt.plot(np.arange(100,1000,50),Lws,'o')\n",
    "plt.xscale('log')\n",
    "plt.xlabel('N',fontsize=10)\n",
    "plt.title('Watts–Strogatz model')\n",
    "\n",
    "# Right hand side plot\n",
    "plt.subplot(1,3,3)\n",
    "plt.plot(np.arange(100,1000,50),Lba,'o')\n",
    "plt.xlabel('k',fontsize=10)\n",
    "plt.xscale('log')\n",
    "plt.xlabel('N',fontsize=10)\n",
    "plt.title('Barabási–Albert model')\n",
    "\n",
    "plt.show()"
   ]
  },
  {
   "cell_type": "markdown",
   "metadata": {},
   "source": [
    "### The clustering coefficient\n",
    "\n",
    "We can compute the clustering coefficient of each node in  a network using the built-in function:\n",
    "\n",
    "**nx.clustering()**\n",
    "\n",
    "https://networkx.org/documentation/networkx-1.9.1/reference/generated/networkx.algorithms.cluster.clustering.html\n",
    "\n"
   ]
  },
  {
   "cell_type": "code",
   "execution_count": null,
   "metadata": {},
   "outputs": [],
   "source": [
    "nodes_clustering_coefficent=nx.clustering(ws)"
   ]
  },
  {
   "cell_type": "code",
   "execution_count": null,
   "metadata": {},
   "outputs": [],
   "source": [
    "nodes_clustering_coefficent"
   ]
  },
  {
   "cell_type": "code",
   "execution_count": null,
   "metadata": {},
   "outputs": [],
   "source": [
    "np.mean(list(nodes_clustering_coefficent.values()))"
   ]
  },
  {
   "cell_type": "markdown",
   "metadata": {},
   "source": [
    "We can compute the average clustering coefficient of a network directly by using:\n",
    "\n",
    "\n",
    "**nx.average_clustering()**\n",
    "\n",
    "https://networkx.org/documentation/networkx-1.9.1/reference/generated/networkx.algorithms.approximation.clustering_coefficient.average_clustering.html#networkx.algorithms.approximation.clustering_coefficient.average_clustering"
   ]
  },
  {
   "cell_type": "code",
   "execution_count": null,
   "metadata": {},
   "outputs": [],
   "source": [
    "nx.average_clustering(ws)"
   ]
  },
  {
   "cell_type": "markdown",
   "metadata": {},
   "source": [
    "### Real-world networks values for C and L: between regular lattice (ring) and and E-R"
   ]
  },
  {
   "cell_type": "code",
   "execution_count": null,
   "metadata": {},
   "outputs": [],
   "source": [
    "k=10\n",
    "N=1000\n",
    "C,L=[],[]\n",
    "beta_values=np.logspace(np.log10(0.0001),np.log10(1.0), 14)\n",
    "for beta in beta_values:\n",
    "    c,l=[],[]\n",
    "    for _ in np.arange(10):\n",
    "        c.append(nx.average_clustering(nx.watts_strogatz_graph(N,k,beta)))\n",
    "        l.append(nx.average_shortest_path_length(nx.watts_strogatz_graph(N,k,beta)))\n",
    "    C.append(np.mean(c))\n",
    "    L.append(np.mean(l))"
   ]
  },
  {
   "cell_type": "code",
   "execution_count": null,
   "metadata": {},
   "outputs": [],
   "source": [
    "plt.figure(figsize=(7,5))\n",
    "c0=nx.average_clustering(nx.watts_strogatz_graph(N,k,0))\n",
    "l0=nx.average_shortest_path_length(nx.watts_strogatz_graph(N,k,0))\n",
    "plt.plot( beta_values,np.divide(L,l0),'o',label='<C>')\n",
    "plt.plot( beta_values,np.divide(C,c0),'o',label='<L>')\n",
    "plt.xscale('log')\n",
    "\n",
    "plt.xlabel('$beta$',fontsize=10)\n",
    "\n",
    "plt.legend()\n",
    "\n",
    "plt.show()"
   ]
  },
  {
   "cell_type": "code",
   "execution_count": null,
   "metadata": {},
   "outputs": [],
   "source": []
  }
 ],
 "metadata": {
  "kernelspec": {
   "display_name": "Python 3",
   "language": "python",
   "name": "python3"
  },
  "language_info": {
   "codemirror_mode": {
    "name": "ipython",
    "version": 3
   },
   "file_extension": ".py",
   "mimetype": "text/x-python",
   "name": "python",
   "nbconvert_exporter": "python",
   "pygments_lexer": "ipython3",
   "version": "3.8.5"
  }
 },
 "nbformat": 4,
 "nbformat_minor": 4
}
